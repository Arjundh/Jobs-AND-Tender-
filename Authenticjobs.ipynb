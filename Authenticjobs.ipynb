{
 "cells": [
  {
   "cell_type": "code",
   "execution_count": 1,
   "metadata": {},
   "outputs": [],
   "source": [
    "from selenium import webdriver\n",
    "from selenium.webdriver.common.keys import Keys\n",
    "from selenium.webdriver.support.ui import WebDriverWait\n",
    "from selenium.webdriver.common.by import By\n",
    "from selenium.webdriver.support.expected_conditions import  visibility_of_element_located\n",
    "import re\n",
    "import pandas as pd\n",
    "import numpy as np"
   ]
  },
  {
   "cell_type": "code",
   "execution_count": 2,
   "metadata": {},
   "outputs": [],
   "source": [
    "all_section=[]\n",
    "all_link1=[]\n",
    "all_link=[]\n",
    "all_section1=[]\n",
    "all_section3=[]\n",
    "#launch url\n",
    "driver = webdriver.Firefox(executable_path='C://Users//Arjun D H//geckodriver-v0.24.0-win64//geckodriver.exe')\n",
    "\n",
    "url = \"https://authenticjobs.com/#remote=true&skills=3\"\n",
    "driver.get(url)\n",
    "driver.implicitly_wait(70)\n",
    "section = driver.find_elements_by_xpath(\"//*[@class='clear-after listing ']\")\n",
    "for i in section:\n",
    "    all_section.append(i.text)\n",
    "\n",
    "for i in section:\n",
    "    all_link = i.get_attribute('href')\n",
    "        #print(all_link)\n",
    "    all_link1.append(all_link)\n",
    "driver.close()"
   ]
  },
  {
   "cell_type": "code",
   "execution_count": 3,
   "metadata": {},
   "outputs": [],
   "source": [
    "driver = webdriver.Firefox(executable_path='C://Users//Arjun D H//geckodriver-v0.24.0-win64//geckodriver.exe')\n",
    "\n",
    "for item in all_link1:\n",
    "    driver.get(item)\n",
    "    \n",
    "    driver.implicitly_wait(10)\n",
    "    section = driver.find_elements_by_xpath(\"//div[@class='description']\")\n",
    "    for i in section:\n",
    "        all_section1.append(i.text)\n",
    "driver.close()      "
   ]
  },
  {
   "cell_type": "code",
   "execution_count": 4,
   "metadata": {},
   "outputs": [
    {
     "name": "stdout",
     "output_type": "stream",
     "text": [
      "4\n",
      "4\n",
      "4\n"
     ]
    }
   ],
   "source": [
    "print(len(all_section))\n",
    "print(len(all_link1))\n",
    "print(len(all_section1))"
   ]
  },
  {
   "cell_type": "code",
   "execution_count": 5,
   "metadata": {},
   "outputs": [],
   "source": [
    "df=pd.DataFrame(index=range(0,(len(all_section))),columns=['JobTitle','JobCompanyName','JobType','JobLocation'])\n",
    "for idx,section in enumerate(all_section):\n",
    "    scn=section.split('\\n')\n",
    "    df.iloc[idx,0]=scn[0] \n",
    "    df.iloc[idx,1]=scn[1]\n",
    "    df.iloc[idx,2]=scn[2]\n",
    "    df.iloc[idx,3]=scn[3]\n",
    "            \n",
    "    "
   ]
  },
  {
   "cell_type": "code",
   "execution_count": 6,
   "metadata": {},
   "outputs": [],
   "source": [
    "df['JobDescription']=pd.Series(all_section1)"
   ]
  },
  {
   "cell_type": "code",
   "execution_count": 7,
   "metadata": {},
   "outputs": [],
   "source": [
    "df['JobUrl']=pd.Series(all_link1)"
   ]
  },
  {
   "cell_type": "code",
   "execution_count": 8,
   "metadata": {},
   "outputs": [],
   "source": [
    "df['LogoUrl'] = \"https://www.underconsideration.com/brandnew/archives/authentic_jobs_logo_detail.png\""
   ]
  },
  {
   "cell_type": "code",
   "execution_count": 9,
   "metadata": {},
   "outputs": [],
   "source": [
    "list1 = ['UI','CSS','ADOBE','PYTHON','JAVA','MAVEN','JAVASCRIPT','UX','GRAPHIC DESIGN', 'HTML', 'PHP', 'WEB DESIGN','lOGO DESIGN','PHOTOSHOP','ILLUSTOR','DESIGN','FRONT END','BACK END','ANIMATION','VFX']\n",
    "list2 = []\n",
    "list3 = []\n"
   ]
  },
  {
   "cell_type": "code",
   "execution_count": 10,
   "metadata": {},
   "outputs": [],
   "source": [
    "ser = pd.Series(df['JobDescription']) \n",
    "ser = ser.apply(lambda x:x.upper())\n"
   ]
  },
  {
   "cell_type": "code",
   "execution_count": 11,
   "metadata": {},
   "outputs": [
    {
     "name": "stdout",
     "output_type": "stream",
     "text": [
      "['UI', 'CSS', 'ADOBE', 'JAVA', 'JAVASCRIPT', 'UX', 'GRAPHIC DESIGN', 'HTML', 'WEB DESIGN', 'PHOTOSHOP', 'DESIGN']\n",
      "['UI', 'CSS', 'ADOBE', 'UX', 'HTML', 'DESIGN']\n",
      "['UI', 'CSS', 'ADOBE', 'JAVA', 'JAVASCRIPT', 'UX', 'HTML', 'DESIGN', 'ANIMATION']\n",
      "['UI', 'UX', 'DESIGN']\n"
     ]
    }
   ],
   "source": [
    "for items in ser:\n",
    "    list2 = []\n",
    "    #print(items)\n",
    "    for i in list1:\n",
    "        #print(i)\n",
    "        if i in items:\n",
    "            list2.append(i)\n",
    "    print(list2)\n",
    "    list3.append(list2)"
   ]
  },
  {
   "cell_type": "code",
   "execution_count": 12,
   "metadata": {},
   "outputs": [],
   "source": [
    "df['JobSkills'] = pd.Series(list3)\n",
    "df[\"isForFreeUsers\"]=\"Yes\"\n"
   ]
  },
  {
   "cell_type": "code",
   "execution_count": 13,
   "metadata": {},
   "outputs": [],
   "source": [
    "df['JobSkills'] = df['JobSkills'].apply(lambda x:' , '.join([str(elem) for elem in x]))"
   ]
  },
  {
   "cell_type": "code",
   "execution_count": 14,
   "metadata": {},
   "outputs": [],
   "source": [
    "df['JobSkills'].replace('', np.nan, inplace=True)\n"
   ]
  },
  {
   "cell_type": "code",
   "execution_count": 15,
   "metadata": {},
   "outputs": [
    {
     "data": {
      "text/html": [
       "<div>\n",
       "<style scoped>\n",
       "    .dataframe tbody tr th:only-of-type {\n",
       "        vertical-align: middle;\n",
       "    }\n",
       "\n",
       "    .dataframe tbody tr th {\n",
       "        vertical-align: top;\n",
       "    }\n",
       "\n",
       "    .dataframe thead th {\n",
       "        text-align: right;\n",
       "    }\n",
       "</style>\n",
       "<table border=\"1\" class=\"dataframe\">\n",
       "  <thead>\n",
       "    <tr style=\"text-align: right;\">\n",
       "      <th></th>\n",
       "      <th>JobTitle</th>\n",
       "      <th>JobCompanyName</th>\n",
       "      <th>JobType</th>\n",
       "      <th>JobLocation</th>\n",
       "      <th>JobDescription</th>\n",
       "      <th>JobUrl</th>\n",
       "      <th>LogoUrl</th>\n",
       "      <th>JobSkills</th>\n",
       "      <th>isForFreeUsers</th>\n",
       "    </tr>\n",
       "  </thead>\n",
       "  <tbody>\n",
       "    <tr>\n",
       "      <th>0</th>\n",
       "      <td>Graphic Designer Wanted for Cannabis Company</td>\n",
       "      <td>Happy Valley Medical/Adult use cannabis compan...</td>\n",
       "      <td>PART-TIME</td>\n",
       "      <td>Anywhere</td>\n",
       "      <td>Posted Oct 28 – Accepting applications\\nThe Gr...</td>\n",
       "      <td>https://authenticjobs.com/jobs/31694/</td>\n",
       "      <td>https://www.underconsideration.com/brandnew/ar...</td>\n",
       "      <td>UI , CSS , ADOBE , JAVA , JAVASCRIPT , UX , GR...</td>\n",
       "      <td>Yes</td>\n",
       "    </tr>\n",
       "    <tr>\n",
       "      <th>1</th>\n",
       "      <td>Visual Designer</td>\n",
       "      <td>Milkshake Studio We're a creative studio focus...</td>\n",
       "      <td>FULL-TIME</td>\n",
       "      <td>Brooklyn, NY</td>\n",
       "      <td>Posted Oct 23 – Accepting applications\\nMilksh...</td>\n",
       "      <td>https://authenticjobs.com/jobs/31684/</td>\n",
       "      <td>https://www.underconsideration.com/brandnew/ar...</td>\n",
       "      <td>UI , CSS , ADOBE , UX , HTML , DESIGN</td>\n",
       "      <td>Yes</td>\n",
       "    </tr>\n",
       "    <tr>\n",
       "      <th>2</th>\n",
       "      <td>UI/UX Designer</td>\n",
       "      <td>Simple Thread Great software is about people, ...</td>\n",
       "      <td>FULL-TIME</td>\n",
       "      <td>Richmond, VA</td>\n",
       "      <td>Posted Oct 22 – Accepting applications\\nWe are...</td>\n",
       "      <td>https://authenticjobs.com/jobs/31681/</td>\n",
       "      <td>https://www.underconsideration.com/brandnew/ar...</td>\n",
       "      <td>UI , CSS , ADOBE , JAVA , JAVASCRIPT , UX , HT...</td>\n",
       "      <td>Yes</td>\n",
       "    </tr>\n",
       "    <tr>\n",
       "      <th>3</th>\n",
       "      <td>Design Director</td>\n",
       "      <td>Big Cartel We make it easy for artists to sell...</td>\n",
       "      <td>FULL-TIME</td>\n",
       "      <td>Anywhere</td>\n",
       "      <td>Posted Oct 21 – Accepting applications\\nDeadli...</td>\n",
       "      <td>https://authenticjobs.com/jobs/31678/</td>\n",
       "      <td>https://www.underconsideration.com/brandnew/ar...</td>\n",
       "      <td>UI , UX , DESIGN</td>\n",
       "      <td>Yes</td>\n",
       "    </tr>\n",
       "  </tbody>\n",
       "</table>\n",
       "</div>"
      ],
      "text/plain": [
       "                                       JobTitle  \\\n",
       "0  Graphic Designer Wanted for Cannabis Company   \n",
       "1                               Visual Designer   \n",
       "2                                UI/UX Designer   \n",
       "3                               Design Director   \n",
       "\n",
       "                                      JobCompanyName    JobType   JobLocation  \\\n",
       "0  Happy Valley Medical/Adult use cannabis compan...  PART-TIME      Anywhere   \n",
       "1  Milkshake Studio We're a creative studio focus...  FULL-TIME  Brooklyn, NY   \n",
       "2  Simple Thread Great software is about people, ...  FULL-TIME  Richmond, VA   \n",
       "3  Big Cartel We make it easy for artists to sell...  FULL-TIME      Anywhere   \n",
       "\n",
       "                                      JobDescription  \\\n",
       "0  Posted Oct 28 – Accepting applications\\nThe Gr...   \n",
       "1  Posted Oct 23 – Accepting applications\\nMilksh...   \n",
       "2  Posted Oct 22 – Accepting applications\\nWe are...   \n",
       "3  Posted Oct 21 – Accepting applications\\nDeadli...   \n",
       "\n",
       "                                  JobUrl  \\\n",
       "0  https://authenticjobs.com/jobs/31694/   \n",
       "1  https://authenticjobs.com/jobs/31684/   \n",
       "2  https://authenticjobs.com/jobs/31681/   \n",
       "3  https://authenticjobs.com/jobs/31678/   \n",
       "\n",
       "                                             LogoUrl  \\\n",
       "0  https://www.underconsideration.com/brandnew/ar...   \n",
       "1  https://www.underconsideration.com/brandnew/ar...   \n",
       "2  https://www.underconsideration.com/brandnew/ar...   \n",
       "3  https://www.underconsideration.com/brandnew/ar...   \n",
       "\n",
       "                                           JobSkills isForFreeUsers  \n",
       "0  UI , CSS , ADOBE , JAVA , JAVASCRIPT , UX , GR...            Yes  \n",
       "1              UI , CSS , ADOBE , UX , HTML , DESIGN            Yes  \n",
       "2  UI , CSS , ADOBE , JAVA , JAVASCRIPT , UX , HT...            Yes  \n",
       "3                                   UI , UX , DESIGN            Yes  "
      ]
     },
     "execution_count": 15,
     "metadata": {},
     "output_type": "execute_result"
    }
   ],
   "source": [
    "df"
   ]
  },
  {
   "cell_type": "code",
   "execution_count": 16,
   "metadata": {},
   "outputs": [
    {
     "data": {
      "text/plain": [
       "https://authenticjobs.com/jobs/31684/    1\n",
       "https://authenticjobs.com/jobs/31694/    1\n",
       "https://authenticjobs.com/jobs/31678/    1\n",
       "https://authenticjobs.com/jobs/31681/    1\n",
       "Name: JobUrl, dtype: int64"
      ]
     },
     "execution_count": 16,
     "metadata": {},
     "output_type": "execute_result"
    }
   ],
   "source": [
    "df['JobUrl'].value_counts(ascending=False)\n",
    "\n"
   ]
  },
  {
   "cell_type": "code",
   "execution_count": 17,
   "metadata": {},
   "outputs": [],
   "source": [
    "#df.to_csv('C://july 19//Authenticjobs_Aug29_1.csv',header=True)\n",
    "df.to_csv('/Users/Arjun D H/Documents/AuthenticJobs.csv',header=True)\n",
    "\n"
   ]
  },
  {
   "cell_type": "code",
   "execution_count": null,
   "metadata": {},
   "outputs": [],
   "source": []
  },
  {
   "cell_type": "code",
   "execution_count": null,
   "metadata": {},
   "outputs": [],
   "source": []
  },
  {
   "cell_type": "code",
   "execution_count": null,
   "metadata": {},
   "outputs": [],
   "source": []
  }
 ],
 "metadata": {
  "kernelspec": {
   "display_name": "Python 3",
   "language": "python",
   "name": "python3"
  },
  "language_info": {
   "codemirror_mode": {
    "name": "ipython",
    "version": 3
   },
   "file_extension": ".py",
   "mimetype": "text/x-python",
   "name": "python",
   "nbconvert_exporter": "python",
   "pygments_lexer": "ipython3",
   "version": "3.7.3"
  }
 },
 "nbformat": 4,
 "nbformat_minor": 4
}
