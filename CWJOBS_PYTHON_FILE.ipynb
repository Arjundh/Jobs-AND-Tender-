{
 "cells": [
  {
   "cell_type": "code",
   "execution_count": 1,
   "metadata": {},
   "outputs": [],
   "source": [
    "from selenium import webdriver\n",
    "from selenium.webdriver.common.keys import Keys\n",
    "from selenium.webdriver.support.ui import WebDriverWait\n",
    "from selenium.webdriver.common.by import By\n",
    "from selenium.webdriver.support.expected_conditions import  visibility_of_element_located\n",
    "from selenium.webdriver.common.action_chains import ActionChains\n",
    "import re\n",
    "import pandas as pd\n",
    "import numpy as np\n",
    "import time"
   ]
  },
  {
   "cell_type": "code",
   "execution_count": 2,
   "metadata": {},
   "outputs": [
    {
     "name": "stdout",
     "output_type": "stream",
     "text": [
      "1\n",
      "2\n"
     ]
    }
   ],
   "source": [
    "kk=[]\n",
    "section=[]\n",
    "all_section1=[]\n",
    "all_link2=[]\n",
    "all_link=[]\n",
    "#Firefox WebDriver Path\n",
    "driver = webdriver.Firefox(executable_path='C://Users//Arjun D H//geckodriver-v0.24.0-win64//geckodriver.exe')\n",
    "for index in range(1,3):\n",
    "    print(index)\n",
    "    url = \"https://www.cwjobs.co.uk/jobs/contract/graphic-design?page=\"+str(index)\n",
    "    driver.get(url)\n",
    "    driver.implicitly_wait(10)\n",
    "        \n",
    "\n",
    "   # cnt = driver.find_elements_by_xpath(\"//a[@class='page-link']\")\n",
    "   # url3 = cnt[3].text\n",
    "   # print(url3)\n",
    "\n",
    "    \n",
    "    details = driver.find_elements_by_xpath(\"//div[@class='job new  ' or @class='job   ']\")\n",
    "    details1 = driver.find_elements_by_xpath(\"//div[@class='job-title']//a\")\n",
    "    for i in details:\n",
    "        section.append(i.text)\n",
    "    for i in details1:\n",
    "        all_link = i.get_attribute('href')\n",
    "        #print(all_link)\n",
    "        all_link2.append(all_link)\n",
    "       \n",
    "        #time.sleep(10)\n",
    "        \n",
    "driver.close()"
   ]
  },
  {
   "cell_type": "code",
   "execution_count": 3,
   "metadata": {},
   "outputs": [],
   "source": [
    "df1=pd.DataFrame(index=range(0,(len(section))),columns=['JobTitle','JobLocation','JobSalary','JobType','JobCompanyName','JobDescription'])\n",
    "for idx, myl in enumerate(section):\n",
    "    mul=myl.split('\\n')\n",
    "    try:\n",
    "        df1.iloc[idx,0]=mul[0]\n",
    "    except IndexError:\n",
    "        df1.iloc[idx,0]=np.nan\n",
    "    try:\n",
    "        df1.iloc[idx,1]=mul[1]\n",
    "    except IndexError:\n",
    "        df1.iloc[idx,1]=np.nan\n",
    "    try:\n",
    "        df1.iloc[idx,2]=mul[2]\n",
    "    except IndexError:\n",
    "        df1.iloc[idx,2]=np.nan\n",
    "    try:\n",
    "        df1.iloc[idx,3]=mul[3]\n",
    "    except IndexError:\n",
    "        df1.iloc[idx,3]=np.nan\n",
    "    try:\n",
    "        df1.iloc[idx,4]=mul[4]\n",
    "    except IndexError:\n",
    "        df1.iloc[idx,4]=np.nan\n",
    "    try:\n",
    "        df1.iloc[idx,5]=mul[6]\n",
    "    except IndexError:\n",
    "        df1.iloc[idx,5]=np.nan\n",
    "\n"
   ]
  },
  {
   "cell_type": "code",
   "execution_count": 4,
   "metadata": {},
   "outputs": [],
   "source": [
    "df1['JobUrl']=pd.Series(all_link2)"
   ]
  },
  {
   "cell_type": "code",
   "execution_count": 5,
   "metadata": {},
   "outputs": [],
   "source": [
    "df1['LogoUrl'] = \"https://pbs.twimg.com/profile_images/873261741412581376/_rOyg0a0.jpg\"\n",
    "df1[\"isForFreeUsers\"]=\"Yes\""
   ]
  },
  {
   "cell_type": "code",
   "execution_count": 6,
   "metadata": {},
   "outputs": [],
   "source": [
    "list1 = ['UI','CSS','ADOBE','PYTHON','JAVA','MAVEN','JAVASCRIPT','UX','GRAPHIC DESIGN', 'HTML', 'PHP', 'WEB DESIGN','lOGO DESIGN','PHOTOSHOP','ILLUSTOR','DESIGN','FRONT END','BACK END','ANIMATION']\n",
    "list2 = []\n",
    "list3 = []\n"
   ]
  },
  {
   "cell_type": "code",
   "execution_count": 7,
   "metadata": {},
   "outputs": [],
   "source": [
    "ser = pd.Series(df1['JobDescription']) \n",
    "ser = ser.apply(lambda x:x.upper())\n"
   ]
  },
  {
   "cell_type": "code",
   "execution_count": 8,
   "metadata": {},
   "outputs": [
    {
     "name": "stdout",
     "output_type": "stream",
     "text": [
      "['DESIGN']\n",
      "['DESIGN']\n",
      "['DESIGN']\n",
      "['DESIGN']\n",
      "['DESIGN']\n"
     ]
    }
   ],
   "source": [
    "for items in ser:\n",
    "    list2 = []\n",
    "    #print(items)\n",
    "    for i in list1:\n",
    "        #print(i)\n",
    "        if i in items:\n",
    "            list2.append(i)\n",
    "    print(list2)\n",
    "    list3.append(list2)"
   ]
  },
  {
   "cell_type": "code",
   "execution_count": 9,
   "metadata": {},
   "outputs": [],
   "source": [
    "df1['JobSkills'] = pd.Series(list3)\n"
   ]
  },
  {
   "cell_type": "code",
   "execution_count": 10,
   "metadata": {},
   "outputs": [],
   "source": [
    "df1['JobSkills'] = df1['JobSkills'].apply(lambda x:' , '.join([str(elem) for elem in x]))"
   ]
  },
  {
   "cell_type": "code",
   "execution_count": 11,
   "metadata": {},
   "outputs": [
    {
     "data": {
      "text/html": [
       "<div>\n",
       "<style scoped>\n",
       "    .dataframe tbody tr th:only-of-type {\n",
       "        vertical-align: middle;\n",
       "    }\n",
       "\n",
       "    .dataframe tbody tr th {\n",
       "        vertical-align: top;\n",
       "    }\n",
       "\n",
       "    .dataframe thead th {\n",
       "        text-align: right;\n",
       "    }\n",
       "</style>\n",
       "<table border=\"1\" class=\"dataframe\">\n",
       "  <thead>\n",
       "    <tr style=\"text-align: right;\">\n",
       "      <th></th>\n",
       "      <th>JobTitle</th>\n",
       "      <th>JobLocation</th>\n",
       "      <th>JobSalary</th>\n",
       "      <th>JobType</th>\n",
       "      <th>JobCompanyName</th>\n",
       "      <th>JobDescription</th>\n",
       "      <th>JobUrl</th>\n",
       "      <th>LogoUrl</th>\n",
       "      <th>isForFreeUsers</th>\n",
       "      <th>JobSkills</th>\n",
       "    </tr>\n",
       "  </thead>\n",
       "  <tbody>\n",
       "    <tr>\n",
       "      <th>0</th>\n",
       "      <td>Senior Product/UX Designer Data Visualisation ...</td>\n",
       "      <td>City of London, London</td>\n",
       "      <td>Competitive DOE</td>\n",
       "      <td>Contract</td>\n",
       "      <td>Eaglecliff</td>\n",
       "      <td>- Led or contribute to the evolution of a desi...</td>\n",
       "      <td>https://www.cwjobs.co.uk/job/senior-ux-designe...</td>\n",
       "      <td>https://pbs.twimg.com/profile_images/873261741...</td>\n",
       "      <td>Yes</td>\n",
       "      <td>DESIGN</td>\n",
       "    </tr>\n",
       "    <tr>\n",
       "      <th>1</th>\n",
       "      <td>Content Designer - User Journey, User Stories,...</td>\n",
       "      <td>EH1, Edinburgh</td>\n",
       "      <td>Up to £400 per day</td>\n",
       "      <td>Contract</td>\n",
       "      <td>E-synergy Solutions</td>\n",
       "      <td>… will be responsible for working with that te...</td>\n",
       "      <td>https://www.cwjobs.co.uk/job/content-designer/...</td>\n",
       "      <td>https://pbs.twimg.com/profile_images/873261741...</td>\n",
       "      <td>Yes</td>\n",
       "      <td>DESIGN</td>\n",
       "    </tr>\n",
       "    <tr>\n",
       "      <th>2</th>\n",
       "      <td>Technical Content Author/Content Designer</td>\n",
       "      <td>Oxford, Oxfordshire</td>\n",
       "      <td>£350 - £400 per day</td>\n",
       "      <td>Contract</td>\n",
       "      <td>Austin Fraser</td>\n",
       "      <td>… for the overall quality of the Content Desig...</td>\n",
       "      <td>https://www.cwjobs.co.uk/job/technical-author/...</td>\n",
       "      <td>https://pbs.twimg.com/profile_images/873261741...</td>\n",
       "      <td>Yes</td>\n",
       "      <td>DESIGN</td>\n",
       "    </tr>\n",
       "    <tr>\n",
       "      <th>3</th>\n",
       "      <td>Contract Drupal Developer</td>\n",
       "      <td>London</td>\n",
       "      <td>£375 - £450 per day</td>\n",
       "      <td>Contract</td>\n",
       "      <td>Careerwise UK Limited</td>\n",
       "      <td>… focus Understanding of Principles of Website...</td>\n",
       "      <td>https://www.cwjobs.co.uk/job/contract-develope...</td>\n",
       "      <td>https://pbs.twimg.com/profile_images/873261741...</td>\n",
       "      <td>Yes</td>\n",
       "      <td>DESIGN</td>\n",
       "    </tr>\n",
       "    <tr>\n",
       "      <th>4</th>\n",
       "      <td>C# Developer</td>\n",
       "      <td>London</td>\n",
       "      <td>£500 - £550 per day</td>\n",
       "      <td>Contract</td>\n",
       "      <td>Careerwise UK Limited</td>\n",
       "      <td>You must have done VM Design, Configuration an...</td>\n",
       "      <td>https://www.cwjobs.co.uk/job/c-developer/caree...</td>\n",
       "      <td>https://pbs.twimg.com/profile_images/873261741...</td>\n",
       "      <td>Yes</td>\n",
       "      <td>DESIGN</td>\n",
       "    </tr>\n",
       "  </tbody>\n",
       "</table>\n",
       "</div>"
      ],
      "text/plain": [
       "                                            JobTitle             JobLocation  \\\n",
       "0  Senior Product/UX Designer Data Visualisation ...  City of London, London   \n",
       "1  Content Designer - User Journey, User Stories,...          EH1, Edinburgh   \n",
       "2          Technical Content Author/Content Designer     Oxford, Oxfordshire   \n",
       "3                          Contract Drupal Developer                  London   \n",
       "4                                       C# Developer                  London   \n",
       "\n",
       "             JobSalary   JobType         JobCompanyName  \\\n",
       "0      Competitive DOE  Contract             Eaglecliff   \n",
       "1   Up to £400 per day  Contract    E-synergy Solutions   \n",
       "2  £350 - £400 per day  Contract          Austin Fraser   \n",
       "3  £375 - £450 per day  Contract  Careerwise UK Limited   \n",
       "4  £500 - £550 per day  Contract  Careerwise UK Limited   \n",
       "\n",
       "                                      JobDescription  \\\n",
       "0  - Led or contribute to the evolution of a desi...   \n",
       "1  … will be responsible for working with that te...   \n",
       "2  … for the overall quality of the Content Desig...   \n",
       "3  … focus Understanding of Principles of Website...   \n",
       "4  You must have done VM Design, Configuration an...   \n",
       "\n",
       "                                              JobUrl  \\\n",
       "0  https://www.cwjobs.co.uk/job/senior-ux-designe...   \n",
       "1  https://www.cwjobs.co.uk/job/content-designer/...   \n",
       "2  https://www.cwjobs.co.uk/job/technical-author/...   \n",
       "3  https://www.cwjobs.co.uk/job/contract-develope...   \n",
       "4  https://www.cwjobs.co.uk/job/c-developer/caree...   \n",
       "\n",
       "                                             LogoUrl isForFreeUsers JobSkills  \n",
       "0  https://pbs.twimg.com/profile_images/873261741...            Yes    DESIGN  \n",
       "1  https://pbs.twimg.com/profile_images/873261741...            Yes    DESIGN  \n",
       "2  https://pbs.twimg.com/profile_images/873261741...            Yes    DESIGN  \n",
       "3  https://pbs.twimg.com/profile_images/873261741...            Yes    DESIGN  \n",
       "4  https://pbs.twimg.com/profile_images/873261741...            Yes    DESIGN  "
      ]
     },
     "execution_count": 11,
     "metadata": {},
     "output_type": "execute_result"
    }
   ],
   "source": [
    "df1"
   ]
  },
  {
   "cell_type": "code",
   "execution_count": 12,
   "metadata": {},
   "outputs": [],
   "source": [
    "df1['JobSkills'].replace('', np.nan, inplace=True)\n"
   ]
  },
  {
   "cell_type": "code",
   "execution_count": 13,
   "metadata": {},
   "outputs": [
    {
     "data": {
      "text/html": [
       "<div>\n",
       "<style scoped>\n",
       "    .dataframe tbody tr th:only-of-type {\n",
       "        vertical-align: middle;\n",
       "    }\n",
       "\n",
       "    .dataframe tbody tr th {\n",
       "        vertical-align: top;\n",
       "    }\n",
       "\n",
       "    .dataframe thead th {\n",
       "        text-align: right;\n",
       "    }\n",
       "</style>\n",
       "<table border=\"1\" class=\"dataframe\">\n",
       "  <thead>\n",
       "    <tr style=\"text-align: right;\">\n",
       "      <th></th>\n",
       "      <th>JobTitle</th>\n",
       "      <th>JobLocation</th>\n",
       "      <th>JobSalary</th>\n",
       "      <th>JobType</th>\n",
       "      <th>JobCompanyName</th>\n",
       "      <th>JobDescription</th>\n",
       "      <th>JobUrl</th>\n",
       "      <th>LogoUrl</th>\n",
       "      <th>isForFreeUsers</th>\n",
       "      <th>JobSkills</th>\n",
       "    </tr>\n",
       "  </thead>\n",
       "  <tbody>\n",
       "    <tr>\n",
       "      <th>0</th>\n",
       "      <td>Senior Product/UX Designer Data Visualisation ...</td>\n",
       "      <td>City of London, London</td>\n",
       "      <td>Competitive DOE</td>\n",
       "      <td>Contract</td>\n",
       "      <td>Eaglecliff</td>\n",
       "      <td>- Led or contribute to the evolution of a desi...</td>\n",
       "      <td>https://www.cwjobs.co.uk/job/senior-ux-designe...</td>\n",
       "      <td>https://pbs.twimg.com/profile_images/873261741...</td>\n",
       "      <td>Yes</td>\n",
       "      <td>DESIGN</td>\n",
       "    </tr>\n",
       "    <tr>\n",
       "      <th>1</th>\n",
       "      <td>Content Designer - User Journey, User Stories,...</td>\n",
       "      <td>EH1, Edinburgh</td>\n",
       "      <td>Up to £400 per day</td>\n",
       "      <td>Contract</td>\n",
       "      <td>E-synergy Solutions</td>\n",
       "      <td>… will be responsible for working with that te...</td>\n",
       "      <td>https://www.cwjobs.co.uk/job/content-designer/...</td>\n",
       "      <td>https://pbs.twimg.com/profile_images/873261741...</td>\n",
       "      <td>Yes</td>\n",
       "      <td>DESIGN</td>\n",
       "    </tr>\n",
       "    <tr>\n",
       "      <th>2</th>\n",
       "      <td>Technical Content Author/Content Designer</td>\n",
       "      <td>Oxford, Oxfordshire</td>\n",
       "      <td>£350 - £400 per day</td>\n",
       "      <td>Contract</td>\n",
       "      <td>Austin Fraser</td>\n",
       "      <td>… for the overall quality of the Content Desig...</td>\n",
       "      <td>https://www.cwjobs.co.uk/job/technical-author/...</td>\n",
       "      <td>https://pbs.twimg.com/profile_images/873261741...</td>\n",
       "      <td>Yes</td>\n",
       "      <td>DESIGN</td>\n",
       "    </tr>\n",
       "    <tr>\n",
       "      <th>3</th>\n",
       "      <td>Contract Drupal Developer</td>\n",
       "      <td>London</td>\n",
       "      <td>£375 - £450 per day</td>\n",
       "      <td>Contract</td>\n",
       "      <td>Careerwise UK Limited</td>\n",
       "      <td>… focus Understanding of Principles of Website...</td>\n",
       "      <td>https://www.cwjobs.co.uk/job/contract-develope...</td>\n",
       "      <td>https://pbs.twimg.com/profile_images/873261741...</td>\n",
       "      <td>Yes</td>\n",
       "      <td>DESIGN</td>\n",
       "    </tr>\n",
       "    <tr>\n",
       "      <th>4</th>\n",
       "      <td>C# Developer</td>\n",
       "      <td>London</td>\n",
       "      <td>£500 - £550 per day</td>\n",
       "      <td>Contract</td>\n",
       "      <td>Careerwise UK Limited</td>\n",
       "      <td>You must have done VM Design, Configuration an...</td>\n",
       "      <td>https://www.cwjobs.co.uk/job/c-developer/caree...</td>\n",
       "      <td>https://pbs.twimg.com/profile_images/873261741...</td>\n",
       "      <td>Yes</td>\n",
       "      <td>DESIGN</td>\n",
       "    </tr>\n",
       "  </tbody>\n",
       "</table>\n",
       "</div>"
      ],
      "text/plain": [
       "                                            JobTitle             JobLocation  \\\n",
       "0  Senior Product/UX Designer Data Visualisation ...  City of London, London   \n",
       "1  Content Designer - User Journey, User Stories,...          EH1, Edinburgh   \n",
       "2          Technical Content Author/Content Designer     Oxford, Oxfordshire   \n",
       "3                          Contract Drupal Developer                  London   \n",
       "4                                       C# Developer                  London   \n",
       "\n",
       "             JobSalary   JobType         JobCompanyName  \\\n",
       "0      Competitive DOE  Contract             Eaglecliff   \n",
       "1   Up to £400 per day  Contract    E-synergy Solutions   \n",
       "2  £350 - £400 per day  Contract          Austin Fraser   \n",
       "3  £375 - £450 per day  Contract  Careerwise UK Limited   \n",
       "4  £500 - £550 per day  Contract  Careerwise UK Limited   \n",
       "\n",
       "                                      JobDescription  \\\n",
       "0  - Led or contribute to the evolution of a desi...   \n",
       "1  … will be responsible for working with that te...   \n",
       "2  … for the overall quality of the Content Desig...   \n",
       "3  … focus Understanding of Principles of Website...   \n",
       "4  You must have done VM Design, Configuration an...   \n",
       "\n",
       "                                              JobUrl  \\\n",
       "0  https://www.cwjobs.co.uk/job/senior-ux-designe...   \n",
       "1  https://www.cwjobs.co.uk/job/content-designer/...   \n",
       "2  https://www.cwjobs.co.uk/job/technical-author/...   \n",
       "3  https://www.cwjobs.co.uk/job/contract-develope...   \n",
       "4  https://www.cwjobs.co.uk/job/c-developer/caree...   \n",
       "\n",
       "                                             LogoUrl isForFreeUsers JobSkills  \n",
       "0  https://pbs.twimg.com/profile_images/873261741...            Yes    DESIGN  \n",
       "1  https://pbs.twimg.com/profile_images/873261741...            Yes    DESIGN  \n",
       "2  https://pbs.twimg.com/profile_images/873261741...            Yes    DESIGN  \n",
       "3  https://pbs.twimg.com/profile_images/873261741...            Yes    DESIGN  \n",
       "4  https://pbs.twimg.com/profile_images/873261741...            Yes    DESIGN  "
      ]
     },
     "execution_count": 13,
     "metadata": {},
     "output_type": "execute_result"
    }
   ],
   "source": [
    "df1"
   ]
  },
  {
   "cell_type": "code",
   "execution_count": 14,
   "metadata": {},
   "outputs": [
    {
     "data": {
      "text/plain": [
       "https://www.cwjobs.co.uk/job/c-developer/careerwise-uk-limited-job88497023           1\n",
       "https://www.cwjobs.co.uk/job/technical-author/austin-fraser-job88453397              1\n",
       "https://www.cwjobs.co.uk/job/content-designer/e-synergy-solutions-job88463272        1\n",
       "https://www.cwjobs.co.uk/job/senior-ux-designer/eaglecliff-job88487328               1\n",
       "https://www.cwjobs.co.uk/job/contract-developer/careerwise-uk-limited-job88441878    1\n",
       "Name: JobUrl, dtype: int64"
      ]
     },
     "execution_count": 14,
     "metadata": {},
     "output_type": "execute_result"
    }
   ],
   "source": [
    "df1['JobUrl'].value_counts(ascending=False)\n",
    "\n"
   ]
  },
  {
   "cell_type": "code",
   "execution_count": 15,
   "metadata": {},
   "outputs": [],
   "source": [
    "df1.to_csv('/Users/Arjun D H/Documents/CW_Jobs.csv',header=True)"
   ]
  },
  {
   "cell_type": "code",
   "execution_count": null,
   "metadata": {},
   "outputs": [],
   "source": []
  },
  {
   "cell_type": "code",
   "execution_count": null,
   "metadata": {},
   "outputs": [],
   "source": []
  }
 ],
 "metadata": {
  "kernelspec": {
   "display_name": "Python 3",
   "language": "python",
   "name": "python3"
  },
  "language_info": {
   "codemirror_mode": {
    "name": "ipython",
    "version": 3
   },
   "file_extension": ".py",
   "mimetype": "text/x-python",
   "name": "python",
   "nbconvert_exporter": "python",
   "pygments_lexer": "ipython3",
   "version": "3.7.3"
  }
 },
 "nbformat": 4,
 "nbformat_minor": 4
}
