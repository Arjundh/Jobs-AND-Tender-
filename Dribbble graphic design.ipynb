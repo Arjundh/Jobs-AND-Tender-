{
 "cells": [
  {
   "cell_type": "code",
   "execution_count": 1,
   "metadata": {},
   "outputs": [],
   "source": [
    "from urllib.request import Request, urlopen\n",
    "import pandas as pd\n",
    "import requests\n",
    "import numpy as np"
   ]
  },
  {
   "cell_type": "code",
   "execution_count": 2,
   "metadata": {},
   "outputs": [],
   "source": [
    "from selenium import webdriver\n",
    "from selenium.webdriver.common.keys import Keys\n",
    "from selenium.webdriver.support.ui import WebDriverWait\n",
    "from selenium.webdriver.common.by import By\n",
    "from selenium.webdriver.support.expected_conditions import  visibility_of_element_located\n",
    "import re\n",
    "import pandas as pd\n",
    "import os\n"
   ]
  },
  {
   "cell_type": "code",
   "execution_count": 3,
   "metadata": {},
   "outputs": [],
   "source": [
    "#launch url\n",
    "all_link=[]\n",
    "all_section=[]\n",
    "all_section1=[]\n",
    "all_section2=[]\n",
    "all_link1=[]\n",
    "all_titles=[]\n",
    "all_link2=[]\n",
    "\n",
    "driver = webdriver.Firefox(executable_path='C://Users//Arjun D H//geckodriver-v0.24.0-win64//geckodriver.exe')\n",
    "url = \"https://dribbble.com/jobs?utf8=%E2%9C%93&keyword=&category=Graphic+Designer&location=&anywhere=true&fulltime=true&freelance_or_contract=true\"\n",
    "driver.get(url)\n",
    "driver.implicitly_wait(10)\n",
    "section = driver.find_elements_by_xpath(\"//a[@class='job-board-job-link']\")\n",
    "section1 = driver.find_elements_by_xpath(\"/html[1]/body[1]/div[3]/div[2]/div[1]/div[2]/div[2]/div[1]//li[1]/ul[1]/li[1]\")\n",
    "section2 = driver.find_elements_by_xpath(\"//div[@class='job-board-job-title text-size-16 text-size-24-ns lh-title text-weight-700']\")\n",
    "for i in section:\n",
    "    all_section.append(i.text)\n",
    "    all_link = i.get_attribute('href')\n",
    "        #print(all_link)\n",
    "    all_link2.append(all_link)\n",
    "    all_titles.append(url)\n",
    "for i in section1:\n",
    "    all_section1.append(i.text)\n",
    "for i in section2:\n",
    "    all_section2.append(i.text)\n",
    "driver.close()"
   ]
  },
  {
   "cell_type": "code",
   "execution_count": 4,
   "metadata": {},
   "outputs": [
    {
     "data": {
      "text/plain": [
       "['Los Angeles, CA',\n",
       " 'Must be local to New York City',\n",
       " 'UTC -5 (NYC) to GMT +3 (Athens, Moscow)']"
      ]
     },
     "execution_count": 4,
     "metadata": {},
     "output_type": "execute_result"
    }
   ],
   "source": [
    "all_section1"
   ]
  },
  {
   "cell_type": "code",
   "execution_count": 5,
   "metadata": {},
   "outputs": [
    {
     "name": "stdout",
     "output_type": "stream",
     "text": [
      "3\n"
     ]
    }
   ],
   "source": [
    "print(len(all_section1))"
   ]
  },
  {
   "cell_type": "code",
   "execution_count": 6,
   "metadata": {},
   "outputs": [],
   "source": [
    "df=pd.DataFrame(index=range(0,(len(all_section))),columns=['JobTitle','JobCompanyName','JobDescription'])\n",
    "for idx,section in enumerate(all_section):\n",
    "    scn=section.split('\\n')\n",
    "    df.iloc[idx,0]=scn[0] \n",
    "    df.iloc[idx,1]=scn[1]\n",
    "    try:\n",
    "        df.iloc[idx,2]=scn[2] # Rate\n",
    "    except IndexError:\n",
    "        df.iloc[idx,2]=np.nan\n",
    "            \n",
    "   "
   ]
  },
  {
   "cell_type": "code",
   "execution_count": 7,
   "metadata": {},
   "outputs": [],
   "source": [
    "df['JobLocation']=pd.Series(all_section1)"
   ]
  },
  {
   "cell_type": "code",
   "execution_count": 8,
   "metadata": {},
   "outputs": [],
   "source": [
    "df['JobUrl']=pd.Series(all_link2)"
   ]
  },
  {
   "cell_type": "code",
   "execution_count": 9,
   "metadata": {},
   "outputs": [],
   "source": [
    "df['LogoUrl'] = \"https://cdn.worldvectorlogo.com/logos/dribbble-4.svg\""
   ]
  },
  {
   "cell_type": "code",
   "execution_count": 10,
   "metadata": {},
   "outputs": [],
   "source": [
    "\n",
    "list1 = ['UI','CSS','ADOBE','PYTHON','JAVA','MAVEN','JAVASCRIPT','UX','GRAPHIC DESIGN', 'HTML', 'PHP', 'WEB DESIGN','lOGO DESIGN','PHOTOSHOP','ILLUSTOR','DESIGN','FRONT END','BACK END','ANIMATION','VFX']\n",
    "list2 = []\n",
    "list3 = []\n"
   ]
  },
  {
   "cell_type": "code",
   "execution_count": 11,
   "metadata": {},
   "outputs": [],
   "source": [
    "ser = pd.Series(df['JobDescription']) \n",
    "ser = ser.apply(lambda x:x.upper())\n"
   ]
  },
  {
   "cell_type": "code",
   "execution_count": 12,
   "metadata": {},
   "outputs": [
    {
     "name": "stdout",
     "output_type": "stream",
     "text": [
      "['GRAPHIC DESIGN', 'DESIGN']\n",
      "['GRAPHIC DESIGN', 'DESIGN']\n",
      "['UI', 'GRAPHIC DESIGN', 'DESIGN']\n",
      "['UI', 'DESIGN']\n",
      "['UI', 'DESIGN']\n",
      "['DESIGN']\n"
     ]
    }
   ],
   "source": [
    "\n",
    "for items in ser:\n",
    "    list2 = []\n",
    "    #print(items)\n",
    "    for i in list1:\n",
    "        #print(i)\n",
    "        if i in items:\n",
    "            list2.append(i)\n",
    "    print(list2)\n",
    "    list3.append(list2)\n"
   ]
  },
  {
   "cell_type": "code",
   "execution_count": 13,
   "metadata": {},
   "outputs": [],
   "source": [
    "df['JobSkills'] = pd.Series(list3)"
   ]
  },
  {
   "cell_type": "code",
   "execution_count": 14,
   "metadata": {},
   "outputs": [],
   "source": [
    "df['JobSkills'] = df['JobSkills'].apply(lambda x:' , '.join([str(elem) for elem in x]))\n",
    "\n"
   ]
  },
  {
   "cell_type": "code",
   "execution_count": 15,
   "metadata": {},
   "outputs": [],
   "source": [
    "df['JobSkills'].replace('', np.nan, inplace=True)\n"
   ]
  },
  {
   "cell_type": "code",
   "execution_count": 16,
   "metadata": {},
   "outputs": [
    {
     "data": {
      "text/html": [
       "<div>\n",
       "<style scoped>\n",
       "    .dataframe tbody tr th:only-of-type {\n",
       "        vertical-align: middle;\n",
       "    }\n",
       "\n",
       "    .dataframe tbody tr th {\n",
       "        vertical-align: top;\n",
       "    }\n",
       "\n",
       "    .dataframe thead th {\n",
       "        text-align: right;\n",
       "    }\n",
       "</style>\n",
       "<table border=\"1\" class=\"dataframe\">\n",
       "  <thead>\n",
       "    <tr style=\"text-align: right;\">\n",
       "      <th></th>\n",
       "      <th>JobTitle</th>\n",
       "      <th>JobCompanyName</th>\n",
       "      <th>JobDescription</th>\n",
       "      <th>JobLocation</th>\n",
       "      <th>JobUrl</th>\n",
       "      <th>LogoUrl</th>\n",
       "      <th>JobSkills</th>\n",
       "    </tr>\n",
       "  </thead>\n",
       "  <tbody>\n",
       "    <tr>\n",
       "      <th>0</th>\n",
       "      <td>Graphic Designer</td>\n",
       "      <td>Single Grain</td>\n",
       "      <td>Single Grain is looking for a full-time Graphi...</td>\n",
       "      <td>Los Angeles, CA</td>\n",
       "      <td>https://dribbble.com/jobs/25517-Graphic-Design...</td>\n",
       "      <td>https://cdn.worldvectorlogo.com/logos/dribbble...</td>\n",
       "      <td>GRAPHIC DESIGN , DESIGN</td>\n",
       "    </tr>\n",
       "    <tr>\n",
       "      <th>1</th>\n",
       "      <td>Graphic Designer II</td>\n",
       "      <td>Sheetz, Inc.</td>\n",
       "      <td>Sheetz is looking for a creative Graphic Desig...</td>\n",
       "      <td>Must be local to New York City</td>\n",
       "      <td>https://dribbble.com/jobs/21891-Graphic-Design...</td>\n",
       "      <td>https://cdn.worldvectorlogo.com/logos/dribbble...</td>\n",
       "      <td>GRAPHIC DESIGN , DESIGN</td>\n",
       "    </tr>\n",
       "    <tr>\n",
       "      <th>2</th>\n",
       "      <td>Graphic Desiger</td>\n",
       "      <td>Vehicle Tracking Systems</td>\n",
       "      <td>As Graphic Designer, you will report to the Ch...</td>\n",
       "      <td>UTC -5 (NYC) to GMT +3 (Athens, Moscow)</td>\n",
       "      <td>https://dribbble.com/jobs/25485-Graphic-Desige...</td>\n",
       "      <td>https://cdn.worldvectorlogo.com/logos/dribbble...</td>\n",
       "      <td>UI , GRAPHIC DESIGN , DESIGN</td>\n",
       "    </tr>\n",
       "    <tr>\n",
       "      <th>3</th>\n",
       "      <td>Freelance Graphic Designer</td>\n",
       "      <td>Barstool Sports</td>\n",
       "      <td>The Barstool Sports Commerce Team is looking f...</td>\n",
       "      <td>NaN</td>\n",
       "      <td>https://dribbble.com/jobs/22521-Freelance-Grap...</td>\n",
       "      <td>https://cdn.worldvectorlogo.com/logos/dribbble...</td>\n",
       "      <td>UI , DESIGN</td>\n",
       "    </tr>\n",
       "    <tr>\n",
       "      <th>4</th>\n",
       "      <td>Senior UI Designer / Graphics Designer</td>\n",
       "      <td>Netdata Inc</td>\n",
       "      <td>Netdata is looking for an experienced and crea...</td>\n",
       "      <td>NaN</td>\n",
       "      <td>https://dribbble.com/jobs/24032-Senior-UI-Desi...</td>\n",
       "      <td>https://cdn.worldvectorlogo.com/logos/dribbble...</td>\n",
       "      <td>UI , DESIGN</td>\n",
       "    </tr>\n",
       "    <tr>\n",
       "      <th>5</th>\n",
       "      <td>Offsite Layout Designer</td>\n",
       "      <td>Canva</td>\n",
       "      <td>At Canva, we create tools that empower the wor...</td>\n",
       "      <td>NaN</td>\n",
       "      <td>https://dribbble.com/jobs/18066-Offsite-Layout...</td>\n",
       "      <td>https://cdn.worldvectorlogo.com/logos/dribbble...</td>\n",
       "      <td>DESIGN</td>\n",
       "    </tr>\n",
       "  </tbody>\n",
       "</table>\n",
       "</div>"
      ],
      "text/plain": [
       "                                 JobTitle            JobCompanyName  \\\n",
       "0                        Graphic Designer              Single Grain   \n",
       "1                     Graphic Designer II              Sheetz, Inc.   \n",
       "2                         Graphic Desiger  Vehicle Tracking Systems   \n",
       "3              Freelance Graphic Designer           Barstool Sports   \n",
       "4  Senior UI Designer / Graphics Designer               Netdata Inc   \n",
       "5                 Offsite Layout Designer                     Canva   \n",
       "\n",
       "                                      JobDescription  \\\n",
       "0  Single Grain is looking for a full-time Graphi...   \n",
       "1  Sheetz is looking for a creative Graphic Desig...   \n",
       "2  As Graphic Designer, you will report to the Ch...   \n",
       "3  The Barstool Sports Commerce Team is looking f...   \n",
       "4  Netdata is looking for an experienced and crea...   \n",
       "5  At Canva, we create tools that empower the wor...   \n",
       "\n",
       "                               JobLocation  \\\n",
       "0                          Los Angeles, CA   \n",
       "1           Must be local to New York City   \n",
       "2  UTC -5 (NYC) to GMT +3 (Athens, Moscow)   \n",
       "3                                      NaN   \n",
       "4                                      NaN   \n",
       "5                                      NaN   \n",
       "\n",
       "                                              JobUrl  \\\n",
       "0  https://dribbble.com/jobs/25517-Graphic-Design...   \n",
       "1  https://dribbble.com/jobs/21891-Graphic-Design...   \n",
       "2  https://dribbble.com/jobs/25485-Graphic-Desige...   \n",
       "3  https://dribbble.com/jobs/22521-Freelance-Grap...   \n",
       "4  https://dribbble.com/jobs/24032-Senior-UI-Desi...   \n",
       "5  https://dribbble.com/jobs/18066-Offsite-Layout...   \n",
       "\n",
       "                                             LogoUrl  \\\n",
       "0  https://cdn.worldvectorlogo.com/logos/dribbble...   \n",
       "1  https://cdn.worldvectorlogo.com/logos/dribbble...   \n",
       "2  https://cdn.worldvectorlogo.com/logos/dribbble...   \n",
       "3  https://cdn.worldvectorlogo.com/logos/dribbble...   \n",
       "4  https://cdn.worldvectorlogo.com/logos/dribbble...   \n",
       "5  https://cdn.worldvectorlogo.com/logos/dribbble...   \n",
       "\n",
       "                      JobSkills  \n",
       "0       GRAPHIC DESIGN , DESIGN  \n",
       "1       GRAPHIC DESIGN , DESIGN  \n",
       "2  UI , GRAPHIC DESIGN , DESIGN  \n",
       "3                   UI , DESIGN  \n",
       "4                   UI , DESIGN  \n",
       "5                        DESIGN  "
      ]
     },
     "execution_count": 16,
     "metadata": {},
     "output_type": "execute_result"
    }
   ],
   "source": [
    "df"
   ]
  },
  {
   "cell_type": "code",
   "execution_count": 17,
   "metadata": {},
   "outputs": [
    {
     "data": {
      "text/plain": [
       "https://dribbble.com/jobs/21891-Graphic-Designer-II?source=index                     1\n",
       "https://dribbble.com/jobs/25485-Graphic-Desiger?source=index                         1\n",
       "https://dribbble.com/jobs/24032-Senior-UI-Designer-Graphics-Designer?source=index    1\n",
       "https://dribbble.com/jobs/18066-Offsite-Layout-Designer?source=index                 1\n",
       "https://dribbble.com/jobs/22521-Freelance-Graphic-Designer?source=index              1\n",
       "https://dribbble.com/jobs/25517-Graphic-Designer?source=index                        1\n",
       "Name: JobUrl, dtype: int64"
      ]
     },
     "execution_count": 17,
     "metadata": {},
     "output_type": "execute_result"
    }
   ],
   "source": [
    "df['JobUrl'].value_counts(ascending=False)\n",
    "\n"
   ]
  },
  {
   "cell_type": "code",
   "execution_count": 18,
   "metadata": {},
   "outputs": [],
   "source": [
    "df[\"isForFreeUsers\"]=\"Yes\""
   ]
  },
  {
   "cell_type": "code",
   "execution_count": 19,
   "metadata": {},
   "outputs": [],
   "source": [
    "df.to_csv('/Users/Arjun D H/Documents/Dribble_Graphic_Design.csv',header=True)\n",
    "\n"
   ]
  },
  {
   "cell_type": "code",
   "execution_count": null,
   "metadata": {},
   "outputs": [],
   "source": []
  },
  {
   "cell_type": "code",
   "execution_count": null,
   "metadata": {},
   "outputs": [],
   "source": []
  }
 ],
 "metadata": {
  "kernelspec": {
   "display_name": "Python 3",
   "language": "python",
   "name": "python3"
  },
  "language_info": {
   "codemirror_mode": {
    "name": "ipython",
    "version": 3
   },
   "file_extension": ".py",
   "mimetype": "text/x-python",
   "name": "python",
   "nbconvert_exporter": "python",
   "pygments_lexer": "ipython3",
   "version": "3.7.3"
  }
 },
 "nbformat": 4,
 "nbformat_minor": 4
}
