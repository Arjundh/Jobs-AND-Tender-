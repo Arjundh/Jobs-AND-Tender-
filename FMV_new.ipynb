{
 "cells": [
  {
   "cell_type": "code",
   "execution_count": 1,
   "metadata": {},
   "outputs": [],
   "source": [
    "from urllib.request import Request, urlopen\n",
    "import pandas as pd\n",
    "import requests\n",
    "import numpy as np"
   ]
  },
  {
   "cell_type": "code",
   "execution_count": 2,
   "metadata": {},
   "outputs": [],
   "source": [
    "import pandas as pd\n",
    "import numpy as np\n",
    "\n",
    "from dateutil.parser import parse\n"
   ]
  },
  {
   "cell_type": "code",
   "execution_count": 3,
   "metadata": {},
   "outputs": [],
   "source": [
    "from selenium import webdriver\n",
    "from selenium.webdriver.common.keys import Keys\n",
    "from selenium.webdriver.support.ui import WebDriverWait\n",
    "from selenium.webdriver.common.by import By\n",
    "from selenium.webdriver.support.expected_conditions import  visibility_of_element_located\n",
    "import re\n",
    "import pandas as pd\n",
    "import os\n"
   ]
  },
  {
   "cell_type": "code",
   "execution_count": 4,
   "metadata": {},
   "outputs": [],
   "source": [
    "from selenium.webdriver.support.ui import Select\n",
    "from selenium.webdriver.support.ui import WebDriverWait\n",
    "\n",
    "\n",
    "#launch url\n",
    "all_titleurl=[]\n",
    "all_title=[]\n",
    "#all_publishedDate=[]\n",
    "#all_context=[]\n",
    "all_deadline=[]\n",
    "\n",
    "driver = webdriver.Firefox(executable_path='C://Users//Arjun D H//geckodriver-v0.24.0-win64//geckodriver.exe')\n",
    "url = \"https://www.e-avrop.com/fmv/e-Upphandling/Default.aspx\"\n",
    "driver.get(url)\n",
    "driver.implicitly_wait(10)\n",
    "\n",
    "title = driver.find_elements_by_xpath(\"/html[1]/body[1]/div[2]/form[1]/div[3]/table[1]/tbody[1]/tr[1]/td[2]/div[2]/table[1]/tbody[1]/tr[2]/td[1]/div[1]/table[1]/tbody[1]/tr/td[1]/a[1]\")\n",
    "#publishedDate = driver.find_elements_by_xpath(\"/html[1]/body[1]/div[2]/form[1]/div[3]/table[1]/tbody[1]/tr[1]/td[2]/div[2]/table[1]/tbody[1]/tr[2]/td[1]/div[1]/table[1]/tbody[1]/tr/td[2]\")\n",
    "deadline = driver.find_elements_by_xpath(\"/html[1]/body[1]/div[2]/form[1]/div[3]/table[1]/tbody[1]/tr[1]/td[2]/div[2]/table[1]/tbody[1]/tr[2]/td[1]/div[1]/table[1]/tbody[1]/tr/td[4]\")\n",
    "\n",
    "for j in title:\n",
    "    all_titleurl.append(j.get_attribute('href'))\n",
    "for k in title:\n",
    "    all_title.append(k.text)\n",
    "#for tt in publishedDate:\n",
    "    #all_publishedDate.append(tt.text)\n",
    "for m in deadline:\n",
    "    all_deadline.append(m.text)\n",
    "driver.close()"
   ]
  },
  {
   "cell_type": "code",
   "execution_count": 5,
   "metadata": {},
   "outputs": [],
   "source": [
    "df=pd.DataFrame(index=range(0,(len(all_titleurl))),columns=['TenderTitle','TenderUrl','TenderClosingDate'])"
   ]
  },
  {
   "cell_type": "code",
   "execution_count": 6,
   "metadata": {},
   "outputs": [],
   "source": [
    "df['TenderTitle'] = pd.Series(all_title)\n",
    "df['TenderUrl'] = pd.Series(all_titleurl)\n",
    "#df['TenderOpeningDate'] = pd.Series(all_publishedDate)\n",
    "#df['TenderDescription'] = pd.Series(all_context)\n",
    "df['TenderClosingDate'] = pd.Series(all_deadline)"
   ]
  },
  {
   "cell_type": "code",
   "execution_count": 7,
   "metadata": {},
   "outputs": [
    {
     "data": {
      "text/html": [
       "<div>\n",
       "<style scoped>\n",
       "    .dataframe tbody tr th:only-of-type {\n",
       "        vertical-align: middle;\n",
       "    }\n",
       "\n",
       "    .dataframe tbody tr th {\n",
       "        vertical-align: top;\n",
       "    }\n",
       "\n",
       "    .dataframe thead th {\n",
       "        text-align: right;\n",
       "    }\n",
       "</style>\n",
       "<table border=\"1\" class=\"dataframe\">\n",
       "  <thead>\n",
       "    <tr style=\"text-align: right;\">\n",
       "      <th></th>\n",
       "      <th>TenderTitle</th>\n",
       "      <th>TenderUrl</th>\n",
       "      <th>TenderClosingDate</th>\n",
       "    </tr>\n",
       "  </thead>\n",
       "  <tbody>\n",
       "    <tr>\n",
       "      <th>0</th>\n",
       "      <td>Ramavtal för Design och Support Leverantörstjä...</td>\n",
       "      <td>https://www.e-avrop.com/fmv/visa/upphandling.a...</td>\n",
       "      <td>2019-11-04\\nToday</td>\n",
       "    </tr>\n",
       "    <tr>\n",
       "      <th>1</th>\n",
       "      <td>RFI Light Multi-Purpose Vehicles (LMPV) and Ch...</td>\n",
       "      <td>https://www.e-avrop.com/fmv/visa/RFI.aspx?id=1142</td>\n",
       "      <td>2019-11-30\\n26 days left</td>\n",
       "    </tr>\n",
       "    <tr>\n",
       "      <th>2</th>\n",
       "      <td>RFI Sniper Weapon System (SWS)</td>\n",
       "      <td>https://www.e-avrop.com/fmv/visa/RFI.aspx?id=1156</td>\n",
       "      <td>2019-12-16\\n42 days left</td>\n",
       "    </tr>\n",
       "  </tbody>\n",
       "</table>\n",
       "</div>"
      ],
      "text/plain": [
       "                                         TenderTitle  \\\n",
       "0  Ramavtal för Design och Support Leverantörstjä...   \n",
       "1  RFI Light Multi-Purpose Vehicles (LMPV) and Ch...   \n",
       "2                     RFI Sniper Weapon System (SWS)   \n",
       "\n",
       "                                           TenderUrl         TenderClosingDate  \n",
       "0  https://www.e-avrop.com/fmv/visa/upphandling.a...         2019-11-04\\nToday  \n",
       "1  https://www.e-avrop.com/fmv/visa/RFI.aspx?id=1142  2019-11-30\\n26 days left  \n",
       "2  https://www.e-avrop.com/fmv/visa/RFI.aspx?id=1156  2019-12-16\\n42 days left  "
      ]
     },
     "execution_count": 7,
     "metadata": {},
     "output_type": "execute_result"
    }
   ],
   "source": [
    "df"
   ]
  },
  {
   "cell_type": "code",
   "execution_count": 8,
   "metadata": {},
   "outputs": [],
   "source": [
    "df['PublishedVia'] = \"FMV\""
   ]
  },
  {
   "cell_type": "code",
   "execution_count": 9,
   "metadata": {},
   "outputs": [
    {
     "data": {
      "text/html": [
       "<div>\n",
       "<style scoped>\n",
       "    .dataframe tbody tr th:only-of-type {\n",
       "        vertical-align: middle;\n",
       "    }\n",
       "\n",
       "    .dataframe tbody tr th {\n",
       "        vertical-align: top;\n",
       "    }\n",
       "\n",
       "    .dataframe thead th {\n",
       "        text-align: right;\n",
       "    }\n",
       "</style>\n",
       "<table border=\"1\" class=\"dataframe\">\n",
       "  <thead>\n",
       "    <tr style=\"text-align: right;\">\n",
       "      <th></th>\n",
       "      <th>TenderTitle</th>\n",
       "      <th>TenderUrl</th>\n",
       "      <th>TenderClosingDate</th>\n",
       "      <th>PublishedVia</th>\n",
       "    </tr>\n",
       "  </thead>\n",
       "  <tbody>\n",
       "    <tr>\n",
       "      <th>0</th>\n",
       "      <td>Ramavtal för Design och Support Leverantörstjä...</td>\n",
       "      <td>https://www.e-avrop.com/fmv/visa/upphandling.a...</td>\n",
       "      <td>2019-11-04\\nToday</td>\n",
       "      <td>FMV</td>\n",
       "    </tr>\n",
       "    <tr>\n",
       "      <th>1</th>\n",
       "      <td>RFI Light Multi-Purpose Vehicles (LMPV) and Ch...</td>\n",
       "      <td>https://www.e-avrop.com/fmv/visa/RFI.aspx?id=1142</td>\n",
       "      <td>2019-11-30\\n26 days left</td>\n",
       "      <td>FMV</td>\n",
       "    </tr>\n",
       "    <tr>\n",
       "      <th>2</th>\n",
       "      <td>RFI Sniper Weapon System (SWS)</td>\n",
       "      <td>https://www.e-avrop.com/fmv/visa/RFI.aspx?id=1156</td>\n",
       "      <td>2019-12-16\\n42 days left</td>\n",
       "      <td>FMV</td>\n",
       "    </tr>\n",
       "  </tbody>\n",
       "</table>\n",
       "</div>"
      ],
      "text/plain": [
       "                                         TenderTitle  \\\n",
       "0  Ramavtal för Design och Support Leverantörstjä...   \n",
       "1  RFI Light Multi-Purpose Vehicles (LMPV) and Ch...   \n",
       "2                     RFI Sniper Weapon System (SWS)   \n",
       "\n",
       "                                           TenderUrl  \\\n",
       "0  https://www.e-avrop.com/fmv/visa/upphandling.a...   \n",
       "1  https://www.e-avrop.com/fmv/visa/RFI.aspx?id=1142   \n",
       "2  https://www.e-avrop.com/fmv/visa/RFI.aspx?id=1156   \n",
       "\n",
       "          TenderClosingDate PublishedVia  \n",
       "0         2019-11-04\\nToday          FMV  \n",
       "1  2019-11-30\\n26 days left          FMV  \n",
       "2  2019-12-16\\n42 days left          FMV  "
      ]
     },
     "execution_count": 9,
     "metadata": {},
     "output_type": "execute_result"
    }
   ],
   "source": [
    "df"
   ]
  },
  {
   "cell_type": "code",
   "execution_count": 10,
   "metadata": {},
   "outputs": [],
   "source": [
    "df = df[df['TenderClosingDate'].str.contains('\\n')]"
   ]
  },
  {
   "cell_type": "code",
   "execution_count": 11,
   "metadata": {},
   "outputs": [],
   "source": [
    "\n",
    "df['TenderClosingDate'] = df['TenderClosingDate'].apply(lambda x:x.split('\\n')[0])"
   ]
  },
  {
   "cell_type": "code",
   "execution_count": 12,
   "metadata": {},
   "outputs": [
    {
     "data": {
      "text/html": [
       "<div>\n",
       "<style scoped>\n",
       "    .dataframe tbody tr th:only-of-type {\n",
       "        vertical-align: middle;\n",
       "    }\n",
       "\n",
       "    .dataframe tbody tr th {\n",
       "        vertical-align: top;\n",
       "    }\n",
       "\n",
       "    .dataframe thead th {\n",
       "        text-align: right;\n",
       "    }\n",
       "</style>\n",
       "<table border=\"1\" class=\"dataframe\">\n",
       "  <thead>\n",
       "    <tr style=\"text-align: right;\">\n",
       "      <th></th>\n",
       "      <th>TenderTitle</th>\n",
       "      <th>TenderUrl</th>\n",
       "      <th>TenderClosingDate</th>\n",
       "      <th>PublishedVia</th>\n",
       "    </tr>\n",
       "  </thead>\n",
       "  <tbody>\n",
       "    <tr>\n",
       "      <th>0</th>\n",
       "      <td>Ramavtal för Design och Support Leverantörstjä...</td>\n",
       "      <td>https://www.e-avrop.com/fmv/visa/upphandling.a...</td>\n",
       "      <td>2019-11-04</td>\n",
       "      <td>FMV</td>\n",
       "    </tr>\n",
       "    <tr>\n",
       "      <th>1</th>\n",
       "      <td>RFI Light Multi-Purpose Vehicles (LMPV) and Ch...</td>\n",
       "      <td>https://www.e-avrop.com/fmv/visa/RFI.aspx?id=1142</td>\n",
       "      <td>2019-11-30</td>\n",
       "      <td>FMV</td>\n",
       "    </tr>\n",
       "    <tr>\n",
       "      <th>2</th>\n",
       "      <td>RFI Sniper Weapon System (SWS)</td>\n",
       "      <td>https://www.e-avrop.com/fmv/visa/RFI.aspx?id=1156</td>\n",
       "      <td>2019-12-16</td>\n",
       "      <td>FMV</td>\n",
       "    </tr>\n",
       "  </tbody>\n",
       "</table>\n",
       "</div>"
      ],
      "text/plain": [
       "                                         TenderTitle  \\\n",
       "0  Ramavtal för Design och Support Leverantörstjä...   \n",
       "1  RFI Light Multi-Purpose Vehicles (LMPV) and Ch...   \n",
       "2                     RFI Sniper Weapon System (SWS)   \n",
       "\n",
       "                                           TenderUrl TenderClosingDate  \\\n",
       "0  https://www.e-avrop.com/fmv/visa/upphandling.a...        2019-11-04   \n",
       "1  https://www.e-avrop.com/fmv/visa/RFI.aspx?id=1142        2019-11-30   \n",
       "2  https://www.e-avrop.com/fmv/visa/RFI.aspx?id=1156        2019-12-16   \n",
       "\n",
       "  PublishedVia  \n",
       "0          FMV  \n",
       "1          FMV  \n",
       "2          FMV  "
      ]
     },
     "execution_count": 12,
     "metadata": {},
     "output_type": "execute_result"
    }
   ],
   "source": [
    "df"
   ]
  },
  {
   "cell_type": "code",
   "execution_count": 13,
   "metadata": {},
   "outputs": [
    {
     "name": "stdout",
     "output_type": "stream",
     "text": [
      "<class 'pandas.core.frame.DataFrame'>\n",
      "Int64Index: 3 entries, 0 to 2\n",
      "Data columns (total 4 columns):\n",
      "TenderTitle          3 non-null object\n",
      "TenderUrl            3 non-null object\n",
      "TenderClosingDate    3 non-null object\n",
      "PublishedVia         3 non-null object\n",
      "dtypes: object(4)\n",
      "memory usage: 120.0+ bytes\n"
     ]
    }
   ],
   "source": [
    "df.info()"
   ]
  },
  {
   "cell_type": "code",
   "execution_count": 14,
   "metadata": {},
   "outputs": [
    {
     "data": {
      "text/plain": [
       "TenderTitle          0\n",
       "TenderUrl            0\n",
       "TenderClosingDate    0\n",
       "PublishedVia         0\n",
       "dtype: int64"
      ]
     },
     "execution_count": 14,
     "metadata": {},
     "output_type": "execute_result"
    }
   ],
   "source": [
    "df.isnull().sum()"
   ]
  },
  {
   "cell_type": "code",
   "execution_count": 15,
   "metadata": {},
   "outputs": [],
   "source": [
    "df['TenderClosingDate'] = df['TenderClosingDate'].apply(lambda x: x.strip().replace('','NaN') if x.isspace() else x)\n"
   ]
  },
  {
   "cell_type": "code",
   "execution_count": 16,
   "metadata": {},
   "outputs": [],
   "source": [
    "df1 = df[df['TenderClosingDate'].notnull()]"
   ]
  },
  {
   "cell_type": "code",
   "execution_count": 17,
   "metadata": {},
   "outputs": [],
   "source": [
    "df1['TenderClosingDate'] = df1['TenderClosingDate'].apply(lambda x:x+\" 00:00:10\")\n"
   ]
  },
  {
   "cell_type": "code",
   "execution_count": 18,
   "metadata": {},
   "outputs": [],
   "source": [
    "df1[\"isForFreeUsers\"]=\"Yes\""
   ]
  },
  {
   "cell_type": "code",
   "execution_count": 19,
   "metadata": {},
   "outputs": [],
   "source": [
    "df1['TenderClosingDate'] = df1['TenderClosingDate'].apply(lambda x:parse(x))"
   ]
  },
  {
   "cell_type": "code",
   "execution_count": 20,
   "metadata": {},
   "outputs": [],
   "source": [
    "df1['TenderSource'] = \"FMV\""
   ]
  },
  {
   "cell_type": "code",
   "execution_count": 21,
   "metadata": {},
   "outputs": [
    {
     "data": {
      "text/html": [
       "<div>\n",
       "<style scoped>\n",
       "    .dataframe tbody tr th:only-of-type {\n",
       "        vertical-align: middle;\n",
       "    }\n",
       "\n",
       "    .dataframe tbody tr th {\n",
       "        vertical-align: top;\n",
       "    }\n",
       "\n",
       "    .dataframe thead th {\n",
       "        text-align: right;\n",
       "    }\n",
       "</style>\n",
       "<table border=\"1\" class=\"dataframe\">\n",
       "  <thead>\n",
       "    <tr style=\"text-align: right;\">\n",
       "      <th></th>\n",
       "      <th>TenderTitle</th>\n",
       "      <th>TenderUrl</th>\n",
       "      <th>TenderClosingDate</th>\n",
       "      <th>PublishedVia</th>\n",
       "      <th>isForFreeUsers</th>\n",
       "      <th>TenderSource</th>\n",
       "    </tr>\n",
       "  </thead>\n",
       "  <tbody>\n",
       "    <tr>\n",
       "      <th>0</th>\n",
       "      <td>Ramavtal för Design och Support Leverantörstjä...</td>\n",
       "      <td>https://www.e-avrop.com/fmv/visa/upphandling.a...</td>\n",
       "      <td>2019-11-04 00:00:10</td>\n",
       "      <td>FMV</td>\n",
       "      <td>Yes</td>\n",
       "      <td>FMV</td>\n",
       "    </tr>\n",
       "    <tr>\n",
       "      <th>1</th>\n",
       "      <td>RFI Light Multi-Purpose Vehicles (LMPV) and Ch...</td>\n",
       "      <td>https://www.e-avrop.com/fmv/visa/RFI.aspx?id=1142</td>\n",
       "      <td>2019-11-30 00:00:10</td>\n",
       "      <td>FMV</td>\n",
       "      <td>Yes</td>\n",
       "      <td>FMV</td>\n",
       "    </tr>\n",
       "    <tr>\n",
       "      <th>2</th>\n",
       "      <td>RFI Sniper Weapon System (SWS)</td>\n",
       "      <td>https://www.e-avrop.com/fmv/visa/RFI.aspx?id=1156</td>\n",
       "      <td>2019-12-16 00:00:10</td>\n",
       "      <td>FMV</td>\n",
       "      <td>Yes</td>\n",
       "      <td>FMV</td>\n",
       "    </tr>\n",
       "  </tbody>\n",
       "</table>\n",
       "</div>"
      ],
      "text/plain": [
       "                                         TenderTitle  \\\n",
       "0  Ramavtal för Design och Support Leverantörstjä...   \n",
       "1  RFI Light Multi-Purpose Vehicles (LMPV) and Ch...   \n",
       "2                     RFI Sniper Weapon System (SWS)   \n",
       "\n",
       "                                           TenderUrl   TenderClosingDate  \\\n",
       "0  https://www.e-avrop.com/fmv/visa/upphandling.a... 2019-11-04 00:00:10   \n",
       "1  https://www.e-avrop.com/fmv/visa/RFI.aspx?id=1142 2019-11-30 00:00:10   \n",
       "2  https://www.e-avrop.com/fmv/visa/RFI.aspx?id=1156 2019-12-16 00:00:10   \n",
       "\n",
       "  PublishedVia isForFreeUsers TenderSource  \n",
       "0          FMV            Yes          FMV  \n",
       "1          FMV            Yes          FMV  \n",
       "2          FMV            Yes          FMV  "
      ]
     },
     "execution_count": 21,
     "metadata": {},
     "output_type": "execute_result"
    }
   ],
   "source": [
    "df1"
   ]
  },
  {
   "cell_type": "code",
   "execution_count": 22,
   "metadata": {},
   "outputs": [],
   "source": [
    "df1.to_csv('/Users/Arjun D H/Documents/FMV_new.csv',header=True)"
   ]
  },
  {
   "cell_type": "code",
   "execution_count": null,
   "metadata": {},
   "outputs": [],
   "source": []
  },
  {
   "cell_type": "code",
   "execution_count": null,
   "metadata": {},
   "outputs": [],
   "source": []
  },
  {
   "cell_type": "code",
   "execution_count": null,
   "metadata": {},
   "outputs": [],
   "source": []
  }
 ],
 "metadata": {
  "kernelspec": {
   "display_name": "Python 3",
   "language": "python",
   "name": "python3"
  },
  "language_info": {
   "codemirror_mode": {
    "name": "ipython",
    "version": 3
   },
   "file_extension": ".py",
   "mimetype": "text/x-python",
   "name": "python",
   "nbconvert_exporter": "python",
   "pygments_lexer": "ipython3",
   "version": "3.7.3"
  }
 },
 "nbformat": 4,
 "nbformat_minor": 2
}
