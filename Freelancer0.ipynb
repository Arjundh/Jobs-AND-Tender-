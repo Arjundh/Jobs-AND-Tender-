{
 "cells": [
  {
   "cell_type": "code",
   "execution_count": 1,
   "metadata": {},
   "outputs": [],
   "source": [
    "from urllib.request import Request, urlopen\n",
    "import pandas as pd\n",
    "import requests\n",
    "import numpy as np\n",
    "from selenium import webdriver\n",
    "from selenium.webdriver.common.keys import Keys\n",
    "from selenium.webdriver.support.ui import WebDriverWait\n",
    "from selenium.webdriver.common.by import By\n",
    "from selenium.webdriver.support.expected_conditions import  visibility_of_element_located\n",
    "import re\n",
    "import pandas as pd\n",
    "import os\n"
   ]
  },
  {
   "cell_type": "code",
   "execution_count": 2,
   "metadata": {},
   "outputs": [
    {
     "name": "stdout",
     "output_type": "stream",
     "text": [
      "1\n",
      "2\n",
      "3\n",
      "4\n",
      "5\n",
      "6\n"
     ]
    }
   ],
   "source": [
    "#launch url\n",
    "all_titles=[]\n",
    "all_chargetypes=[]\n",
    "all_explevel=[]\n",
    "all_section=[]\n",
    "all_location = []\n",
    "all_bids = []\n",
    "all_link1 = []\n",
    "driver = webdriver.Firefox(executable_path='C://Users//Arjun D H//geckodriver-v0.24.0-win64//geckodriver.exe')\n",
    "#list1 = ['graphic-design']\n",
    "#for item in list1:\n",
    "    #category1=item.split('\\n')\n",
    "for index in range(1,7):\n",
    "    url = \"https://www.freelancer.com/jobs/\"+str(index)+\"/?keyword=designer\"\n",
    "    driver.get(url)\n",
    "    print(index)\n",
    "    \n",
    "    driver.implicitly_wait(10)\n",
    "    \n",
    "    jobsection = driver.find_elements_by_xpath(\"//*[@class='JobSearchCard-item ']\")\n",
    "    bids = driver.find_elements_by_xpath(\"//*[@class='JobSearchCard-secondary-entry']\")\n",
    "    section = driver.find_elements_by_xpath(\"//*[@class='JobSearchCard-primary-heading-link']\")\n",
    "    for tt in jobsection:\n",
    "        all_section.append(tt.text)\n",
    "    for bid in bids:\n",
    "        all_bids.append(bid.text)\n",
    "    for i in section:\n",
    "        all_link = i.get_attribute('href')\n",
    "    #print(all_link)\n",
    "        all_link1.append(all_link)\n",
    "driver.close()"
   ]
  },
  {
   "cell_type": "code",
   "execution_count": 3,
   "metadata": {},
   "outputs": [],
   "source": [
    "df=pd.DataFrame(index=range(0,(len(all_section))),columns=['JobTitle','JobDescription','JobSkills','JobSalary'])\n",
    "#Bids = data = np.array(['g','e','e','k','s'])\n",
    "\n",
    "#bidata = pd.Series(all_bids)\n",
    "\n",
    "for idx,section in enumerate(all_section):\n",
    "    \n",
    "        scn = section.split('\\n')\n",
    "        #print(idx)\n",
    "        df.iloc[idx,0]=scn[0] #job title\n",
    "        df.iloc[idx,1]=scn[1] #job desc\n",
    "        df.iloc[idx,2]=scn[2] #'Skills'\n",
    "        \n",
    "        try:\n",
    "            df.iloc[idx,3]=scn[3] # Rate\n",
    "        except IndexError:\n",
    "            df.iloc[idx,3]=np.nan\n",
    "            \n",
    "        "
   ]
  },
  {
   "cell_type": "code",
   "execution_count": 4,
   "metadata": {},
   "outputs": [],
   "source": [
    "all_link_4 = []\n",
    "for item in all_link1:\n",
    "    if item.startswith(\"https://www.freelancer.com/projects/\"):\n",
    "        all_link_4.append(item.replace(\"https://www.freelancer.com/projects/\",'').split('/')[0])\n",
    "    else:\n",
    "        all_link_4.append(item.replace(\"https://www.freelancer.com/contest/\",'').split('/')[0])  \n",
    "                       "
   ]
  },
  {
   "cell_type": "code",
   "execution_count": 5,
   "metadata": {},
   "outputs": [],
   "source": [
    "df['JobUrl']=pd.Series(all_link1)\n",
    "#df['Job Category']=pd.Series(all_link_4)"
   ]
  },
  {
   "cell_type": "code",
   "execution_count": 6,
   "metadata": {},
   "outputs": [],
   "source": [
    "df = df.dropna(thresh=4)\n",
    "df = df.reset_index()\n",
    "df.drop(columns=['index'],inplace=True,axis=1)\n"
   ]
  },
  {
   "cell_type": "code",
   "execution_count": null,
   "metadata": {},
   "outputs": [],
   "source": [
    "from selenium.common.exceptions import *\n",
    "driver = webdriver.Firefox(executable_path='C://Users//Arjun D H//geckodriver-v0.24.0-win64//geckodriver.exe')\n",
    "complete_text = []\n",
    "for item in all_link1:\n",
    "    driver.get(item)\n",
    "    driver.implicitly_wait(10)\n",
    "    try:\n",
    "        section = driver.find_element_by_xpath(\"/html[1]/body[1]/div[2]/main[1]/div[1]/div[1]/div[1]/div[1]/section[1]/div[1]/div[1]/div[1]/div[1]/span[2]/span[2]\")\n",
    "        complete_text.append(section.text)\n",
    "    except NoSuchElementException:\n",
    "        complete_text.append(\"Not Specified\")"
   ]
  },
  {
   "cell_type": "code",
   "execution_count": null,
   "metadata": {},
   "outputs": [],
   "source": [
    "df['LogoUrl'] = \"https://www.f-cdn.com/assets/img/fl-logo-c555380d.svg\"\n",
    "df['JobLocation'] = pd.Series(complete_text)\n",
    "#df['JobSkills'] = pd.Series(all_skil)\n"
   ]
  },
  {
   "cell_type": "code",
   "execution_count": null,
   "metadata": {},
   "outputs": [],
   "source": [
    "df = df[df.JobSalary != 'GUARANTEED']"
   ]
  },
  {
   "cell_type": "code",
   "execution_count": null,
   "metadata": {},
   "outputs": [],
   "source": [
    "df"
   ]
  },
  {
   "cell_type": "code",
   "execution_count": null,
   "metadata": {},
   "outputs": [],
   "source": [
    "df = df.drop_duplicates()"
   ]
  },
  {
   "cell_type": "code",
   "execution_count": null,
   "metadata": {},
   "outputs": [],
   "source": [
    "df.shape"
   ]
  },
  {
   "cell_type": "code",
   "execution_count": null,
   "metadata": {},
   "outputs": [],
   "source": [
    "df['JobUrl'].nunique()"
   ]
  },
  {
   "cell_type": "code",
   "execution_count": null,
   "metadata": {
    "scrolled": true
   },
   "outputs": [],
   "source": [
    "df['JobUrl'].value_counts(ascending=False)"
   ]
  },
  {
   "cell_type": "code",
   "execution_count": null,
   "metadata": {},
   "outputs": [],
   "source": [
    "df[\"isForFreeUsers\"]=\"No\""
   ]
  },
  {
   "cell_type": "code",
   "execution_count": null,
   "metadata": {},
   "outputs": [],
   "source": [
    "df.to_csv('/Users/Arjun D H/Documents/Freelancer0.csv',header=True)"
   ]
  },
  {
   "cell_type": "code",
   "execution_count": null,
   "metadata": {},
   "outputs": [],
   "source": []
  },
  {
   "cell_type": "code",
   "execution_count": null,
   "metadata": {},
   "outputs": [],
   "source": []
  },
  {
   "cell_type": "code",
   "execution_count": null,
   "metadata": {},
   "outputs": [],
   "source": []
  },
  {
   "cell_type": "code",
   "execution_count": null,
   "metadata": {},
   "outputs": [],
   "source": []
  }
 ],
 "metadata": {
  "kernelspec": {
   "display_name": "Python 3",
   "language": "python",
   "name": "python3"
  },
  "language_info": {
   "codemirror_mode": {
    "name": "ipython",
    "version": 3
   },
   "file_extension": ".py",
   "mimetype": "text/x-python",
   "name": "python",
   "nbconvert_exporter": "python",
   "pygments_lexer": "ipython3",
   "version": "3.7.3"
  }
 },
 "nbformat": 4,
 "nbformat_minor": 4
}
