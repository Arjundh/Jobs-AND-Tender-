{
 "cells": [
  {
   "cell_type": "code",
   "execution_count": 1,
   "metadata": {},
   "outputs": [],
   "source": [
    "from selenium import webdriver\n",
    "from selenium.webdriver.common.keys import Keys\n",
    "from selenium.webdriver.support.ui import WebDriverWait\n",
    "from selenium.webdriver.common.by import By\n",
    "from selenium.webdriver.support.expected_conditions import  visibility_of_element_located\n",
    "import re\n",
    "import pandas as pd\n",
    "import numpy as np"
   ]
  },
  {
   "cell_type": "code",
   "execution_count": 2,
   "metadata": {},
   "outputs": [],
   "source": [
    "all_section=[]\n",
    "all_section1=[]\n",
    "all_section2=[]\n",
    "all_section3=[]\n",
    "all_section4=[]\n",
    "all_link1=[]\n",
    "all_link=[]\n",
    "driver = webdriver.Firefox(executable_path='C://Users//Arjun D H//geckodriver-v0.24.0-win64//geckodriver.exe')\n",
    "url = \"https://www.brookstreet.co.uk/job-search?utf8=%E2%9C%93&search%5Bquery%5D=designer&selected_locations=&search%5Bradius%5D=16\"\n",
    "driver.get(url)\n",
    "driver.implicitly_wait(10)\n",
    "section1 = driver.find_elements_by_xpath(\"//div[@class='job-title']//a\")\n",
    "section = driver.find_elements_by_xpath(\"//li[@class='results-job-location']\")\n",
    "section2 = driver.find_elements_by_xpath(\"//p[@class='job-description']\")\n",
    "section3 = driver.find_elements_by_xpath(\"//li[@class='results-posted-at']\")\n",
    "section4 = driver.find_elements_by_xpath(\"//li[@class='results-salary']\")\n",
    "for i in section1:\n",
    "    all_section.append(i.text)   \n",
    "    all_link = i.get_attribute('href')\n",
    "    all_link1.append(all_link)\n",
    "for i in section:\n",
    "    all_section1.append(i.text)\n",
    "for i in section2:\n",
    "    all_section2.append(i.text)\n",
    "for i in section3:\n",
    "    all_section3.append(i.text)  \n",
    "for i in section4:\n",
    "    all_section4.append(i.text)   \n",
    "driver.close()"
   ]
  },
  {
   "cell_type": "code",
   "execution_count": 3,
   "metadata": {},
   "outputs": [],
   "source": [
    "df=pd.DataFrame(index=range(0,(len(all_section))),columns=['JobTitle'])\n",
    "for idx,section in enumerate(all_section):\n",
    "    scn=section.split('\\n')\n",
    "    df.iloc[idx,0]=scn[0] \n",
    "   \n",
    "    "
   ]
  },
  {
   "cell_type": "code",
   "execution_count": 4,
   "metadata": {},
   "outputs": [],
   "source": [
    "df['JobDescription']=pd.Series(all_section2)"
   ]
  },
  {
   "cell_type": "code",
   "execution_count": 5,
   "metadata": {},
   "outputs": [],
   "source": [
    "df['JobLocation']=pd.Series(all_section1)"
   ]
  },
  {
   "cell_type": "code",
   "execution_count": 6,
   "metadata": {},
   "outputs": [],
   "source": [
    "df['JobSalary']=pd.Series(all_section4)"
   ]
  },
  {
   "cell_type": "code",
   "execution_count": 7,
   "metadata": {},
   "outputs": [],
   "source": [
    "df['JobPostedDate']=pd.Series(all_section3)\n",
    "df[\"isForFreeUsers\"]=\"Yes\""
   ]
  },
  {
   "cell_type": "code",
   "execution_count": 8,
   "metadata": {},
   "outputs": [],
   "source": [
    "list1 = ['UI','CSS','ADOBE','PYTHON','JAVA','MAVEN','JAVASCRIPT','UX','GRAPHIC DESIGN', 'HTML', 'PHP', 'WEB DESIGN','lOGO DESIGN','PHOTOSHOP','ILLUSTOR','DESIGN','FRONT END','BACK END','ANIMATION','VFX']\n",
    "list2 = []\n",
    "list3 = []\n"
   ]
  },
  {
   "cell_type": "code",
   "execution_count": 9,
   "metadata": {},
   "outputs": [],
   "source": [
    "ser = pd.Series(df['JobDescription']) \n",
    "ser = ser.apply(lambda x:x.upper())\n"
   ]
  },
  {
   "cell_type": "code",
   "execution_count": 10,
   "metadata": {},
   "outputs": [
    {
     "name": "stdout",
     "output_type": "stream",
     "text": [
      "['UI', 'DESIGN']\n"
     ]
    }
   ],
   "source": [
    "for items in ser:\n",
    "    list2 = []\n",
    "    #print(items)\n",
    "    for i in list1:\n",
    "        #print(i)\n",
    "        if i in items:\n",
    "            list2.append(i)\n",
    "    print(list2)\n",
    "    list3.append(list2)"
   ]
  },
  {
   "cell_type": "code",
   "execution_count": 11,
   "metadata": {},
   "outputs": [],
   "source": [
    "df['JobSkills'] = pd.Series(list3)\n"
   ]
  },
  {
   "cell_type": "code",
   "execution_count": 12,
   "metadata": {},
   "outputs": [],
   "source": [
    "df['JobSkills'] = df['JobSkills'].apply(lambda x:' , '.join([str(elem) for elem in x]))\n"
   ]
  },
  {
   "cell_type": "code",
   "execution_count": 13,
   "metadata": {},
   "outputs": [],
   "source": [
    "df['JobSkills'].replace('', np.nan, inplace=True)"
   ]
  },
  {
   "cell_type": "code",
   "execution_count": 14,
   "metadata": {},
   "outputs": [],
   "source": [
    "df['JobUrl']=pd.Series(all_link1)"
   ]
  },
  {
   "cell_type": "code",
   "execution_count": 15,
   "metadata": {},
   "outputs": [],
   "source": [
    "df['LogoUrl'] = \"https://registrations.brookstreet.co.uk/images/logo.jpg\""
   ]
  },
  {
   "cell_type": "code",
   "execution_count": 16,
   "metadata": {},
   "outputs": [
    {
     "data": {
      "text/html": [
       "<div>\n",
       "<style scoped>\n",
       "    .dataframe tbody tr th:only-of-type {\n",
       "        vertical-align: middle;\n",
       "    }\n",
       "\n",
       "    .dataframe tbody tr th {\n",
       "        vertical-align: top;\n",
       "    }\n",
       "\n",
       "    .dataframe thead th {\n",
       "        text-align: right;\n",
       "    }\n",
       "</style>\n",
       "<table border=\"1\" class=\"dataframe\">\n",
       "  <thead>\n",
       "    <tr style=\"text-align: right;\">\n",
       "      <th></th>\n",
       "      <th>JobTitle</th>\n",
       "      <th>JobDescription</th>\n",
       "      <th>JobLocation</th>\n",
       "      <th>JobSalary</th>\n",
       "      <th>JobPostedDate</th>\n",
       "      <th>isForFreeUsers</th>\n",
       "      <th>JobSkills</th>\n",
       "      <th>JobUrl</th>\n",
       "      <th>LogoUrl</th>\n",
       "    </tr>\n",
       "  </thead>\n",
       "  <tbody>\n",
       "    <tr>\n",
       "      <th>0</th>\n",
       "      <td>Senior Designer</td>\n",
       "      <td>Senior Designer London Paddington Brook Street...</td>\n",
       "      <td>London, England</td>\n",
       "      <td>Negotiable</td>\n",
       "      <td>Posted 1 day ago</td>\n",
       "      <td>Yes</td>\n",
       "      <td>UI , DESIGN</td>\n",
       "      <td>https://www.brookstreet.co.uk/job/senior-desig...</td>\n",
       "      <td>https://registrations.brookstreet.co.uk/images...</td>\n",
       "    </tr>\n",
       "  </tbody>\n",
       "</table>\n",
       "</div>"
      ],
      "text/plain": [
       "          JobTitle                                     JobDescription  \\\n",
       "0  Senior Designer  Senior Designer London Paddington Brook Street...   \n",
       "\n",
       "       JobLocation   JobSalary     JobPostedDate isForFreeUsers    JobSkills  \\\n",
       "0  London, England  Negotiable  Posted 1 day ago            Yes  UI , DESIGN   \n",
       "\n",
       "                                              JobUrl  \\\n",
       "0  https://www.brookstreet.co.uk/job/senior-desig...   \n",
       "\n",
       "                                             LogoUrl  \n",
       "0  https://registrations.brookstreet.co.uk/images...  "
      ]
     },
     "execution_count": 16,
     "metadata": {},
     "output_type": "execute_result"
    }
   ],
   "source": [
    "df"
   ]
  },
  {
   "cell_type": "code",
   "execution_count": 17,
   "metadata": {},
   "outputs": [
    {
     "data": {
      "text/plain": [
       "https://www.brookstreet.co.uk/job/senior-designer/    1\n",
       "Name: JobUrl, dtype: int64"
      ]
     },
     "execution_count": 17,
     "metadata": {},
     "output_type": "execute_result"
    }
   ],
   "source": [
    "df['JobUrl'].value_counts(ascending=False)\n",
    "\n"
   ]
  },
  {
   "cell_type": "code",
   "execution_count": 18,
   "metadata": {},
   "outputs": [],
   "source": [
    "df.to_csv('/Users/Arjun D H/Documents/Brookstreet.csv',header=True)\n"
   ]
  },
  {
   "cell_type": "code",
   "execution_count": null,
   "metadata": {},
   "outputs": [],
   "source": []
  },
  {
   "cell_type": "code",
   "execution_count": null,
   "metadata": {},
   "outputs": [],
   "source": []
  }
 ],
 "metadata": {
  "kernelspec": {
   "display_name": "Python 3",
   "language": "python",
   "name": "python3"
  },
  "language_info": {
   "codemirror_mode": {
    "name": "ipython",
    "version": 3
   },
   "file_extension": ".py",
   "mimetype": "text/x-python",
   "name": "python",
   "nbconvert_exporter": "python",
   "pygments_lexer": "ipython3",
   "version": "3.7.3"
  }
 },
 "nbformat": 4,
 "nbformat_minor": 4
}
