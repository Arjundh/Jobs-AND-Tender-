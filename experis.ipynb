{
 "cells": [
  {
   "cell_type": "code",
   "execution_count": 1,
   "metadata": {},
   "outputs": [],
   "source": [
    "from selenium import webdriver\n",
    "from selenium.webdriver.common.keys import Keys\n",
    "from selenium.webdriver.support.ui import WebDriverWait\n",
    "from selenium.webdriver.common.by import By\n",
    "from selenium.webdriver.support.expected_conditions import  visibility_of_element_located\n",
    "import re\n",
    "import pandas as pd\n",
    "import numpy as np"
   ]
  },
  {
   "cell_type": "code",
   "execution_count": 2,
   "metadata": {},
   "outputs": [],
   "source": [
    "all_section=[]\n",
    "all_section1=[]\n",
    "all_section2=[]\n",
    "all_section3=[]\n",
    "all_section4=[]\n",
    "all_section5=[]\n",
    "all_section6=[]\n",
    "all_link1=[]\n",
    "all_link=[]\n",
    "driver = webdriver.Firefox(executable_path='C://Users//Arjun D H//geckodriver-v0.24.0-win64//geckodriver.exe')\n",
    "url = \"https://www.experis.co.uk/jobs/contract/?&search%5Bquery%5D=designer&search%5Bradius%5D=50.0&selected_locations=\"\n",
    "driver.get(url)\n",
    "driver.implicitly_wait(70)\n",
    "section1 = driver.find_elements_by_xpath(\"//div[@class='job-title']//a\")\n",
    "section = driver.find_elements_by_xpath(\"//li[@class='results-job-location']\")\n",
    "section2 = driver.find_elements_by_xpath(\"//li[@class='results-salary']\")\n",
    "section3 = driver.find_elements_by_xpath(\"//li[@class='results-client-name']\")\n",
    "section4 = driver.find_elements_by_xpath(\"//li[@class='results-posted-at']\")\n",
    "section5 = driver.find_elements_by_xpath(\"//p[@class='job-description']\")\n",
    "for i in section1:\n",
    "    all_section.append(i.text)\n",
    "    all_link = i.get_attribute('href')\n",
    "    all_link1.append(all_link)\n",
    "for i in section:\n",
    "    all_section1.append(i.text)\n",
    "for i in section2:\n",
    "    all_section2.append(i.text)\n",
    "for i in section3:\n",
    "    all_section3.append(i.text)    \n",
    "for i in section4:\n",
    "    all_section4.append(i.text)    \n",
    "for i in section5:\n",
    "    all_section5.append(i.text)    \n",
    "driver.close()"
   ]
  },
  {
   "cell_type": "code",
   "execution_count": 3,
   "metadata": {},
   "outputs": [],
   "source": [
    "df=pd.DataFrame(index=range(0,(len(all_section))),columns=['JobTitle'])\n",
    "for idx,section in enumerate(all_section):\n",
    "    scn=section.split('\\n')\n",
    "    df.iloc[idx,0]=scn[0] \n",
    "    #df.iloc[idx,1]=scn[1] \n",
    "    "
   ]
  },
  {
   "cell_type": "code",
   "execution_count": 4,
   "metadata": {},
   "outputs": [],
   "source": [
    "df['JobDescription']=pd.Series(all_section5)"
   ]
  },
  {
   "cell_type": "code",
   "execution_count": 5,
   "metadata": {},
   "outputs": [],
   "source": [
    "df['JobLocation']=pd.Series(all_section1)"
   ]
  },
  {
   "cell_type": "code",
   "execution_count": 6,
   "metadata": {},
   "outputs": [],
   "source": [
    "df['JobSalary']=pd.Series(all_section2)"
   ]
  },
  {
   "cell_type": "code",
   "execution_count": 7,
   "metadata": {},
   "outputs": [],
   "source": [
    "df['JobCompanyName']=pd.Series(all_section3)"
   ]
  },
  {
   "cell_type": "code",
   "execution_count": 8,
   "metadata": {},
   "outputs": [],
   "source": [
    "df['JobPostedDate']=pd.Series(all_section4)"
   ]
  },
  {
   "cell_type": "code",
   "execution_count": 9,
   "metadata": {},
   "outputs": [],
   "source": [
    "df['JobUrl']=pd.Series(all_link1)\n",
    "df[\"isForFreeUsers\"]=\"Yes\""
   ]
  },
  {
   "cell_type": "code",
   "execution_count": 10,
   "metadata": {},
   "outputs": [],
   "source": [
    "df['LogoUrl'] = \"https://www.experisjobs.us/clientcss/ej/exexperislogo.png\""
   ]
  },
  {
   "cell_type": "code",
   "execution_count": 11,
   "metadata": {},
   "outputs": [],
   "source": [
    "list1 = ['UI','CSS','ADOBE','PYTHON','JAVA','MAVEN','JAVASCRIPT','UX','GRAPHIC DESIGN', 'HTML', 'PHP', 'WEB DESIGN','lOGO DESIGN','PHOTOSHOP','ILLUSTOR','DESIGN','FRONT END','BACK END','ANIMATION','VFX']\n",
    "list2 = []\n",
    "list3 = []\n"
   ]
  },
  {
   "cell_type": "code",
   "execution_count": 12,
   "metadata": {},
   "outputs": [],
   "source": [
    "ser = pd.Series(df['JobDescription']) \n",
    "ser = ser.apply(lambda x:x.upper())\n"
   ]
  },
  {
   "cell_type": "code",
   "execution_count": 13,
   "metadata": {},
   "outputs": [
    {
     "name": "stdout",
     "output_type": "stream",
     "text": [
      "['UI', 'DESIGN']\n",
      "['UI', 'UX', 'DESIGN']\n",
      "['UI', 'UX', 'DESIGN']\n",
      "['UI', 'WEB DESIGN', 'DESIGN']\n",
      "['UX', 'DESIGN']\n",
      "['DESIGN']\n",
      "['UI', 'UX', 'DESIGN']\n",
      "['UI', 'DESIGN']\n",
      "['DESIGN']\n",
      "['UI', 'DESIGN']\n",
      "['UI', 'DESIGN']\n"
     ]
    }
   ],
   "source": [
    "for items in ser:\n",
    "    list2 = []\n",
    "    #print(items)\n",
    "    for i in list1:\n",
    "        #print(i)\n",
    "        if i in items:\n",
    "            list2.append(i)\n",
    "    print(list2)\n",
    "    list3.append(list2)\n"
   ]
  },
  {
   "cell_type": "code",
   "execution_count": 14,
   "metadata": {},
   "outputs": [],
   "source": [
    "df['JobSkills'] = pd.Series(list3)\n"
   ]
  },
  {
   "cell_type": "code",
   "execution_count": 15,
   "metadata": {},
   "outputs": [],
   "source": [
    "df['JobSkills'] = df['JobSkills'].apply(lambda x:' , '.join([str(elem) for elem in x]))\n"
   ]
  },
  {
   "cell_type": "code",
   "execution_count": 16,
   "metadata": {},
   "outputs": [],
   "source": [
    "df['JobSkills'].replace('', np.nan, inplace=True)\n"
   ]
  },
  {
   "cell_type": "code",
   "execution_count": 17,
   "metadata": {
    "scrolled": true
   },
   "outputs": [
    {
     "data": {
      "text/html": [
       "<div>\n",
       "<style scoped>\n",
       "    .dataframe tbody tr th:only-of-type {\n",
       "        vertical-align: middle;\n",
       "    }\n",
       "\n",
       "    .dataframe tbody tr th {\n",
       "        vertical-align: top;\n",
       "    }\n",
       "\n",
       "    .dataframe thead th {\n",
       "        text-align: right;\n",
       "    }\n",
       "</style>\n",
       "<table border=\"1\" class=\"dataframe\">\n",
       "  <thead>\n",
       "    <tr style=\"text-align: right;\">\n",
       "      <th></th>\n",
       "      <th>JobTitle</th>\n",
       "      <th>JobDescription</th>\n",
       "      <th>JobLocation</th>\n",
       "      <th>JobSalary</th>\n",
       "      <th>JobCompanyName</th>\n",
       "      <th>JobPostedDate</th>\n",
       "      <th>JobUrl</th>\n",
       "      <th>isForFreeUsers</th>\n",
       "      <th>LogoUrl</th>\n",
       "      <th>JobSkills</th>\n",
       "    </tr>\n",
       "  </thead>\n",
       "  <tbody>\n",
       "    <tr>\n",
       "      <th>0</th>\n",
       "      <td>Mechanical Designer</td>\n",
       "      <td>MECHANICAL DESIGNER Rate: £32.00/hr ltd Locati...</td>\n",
       "      <td>Warrington, Cheshire</td>\n",
       "      <td>£30.00 - £32.00 per hour</td>\n",
       "      <td>Undisclosed Company</td>\n",
       "      <td>Posted 11 days ago</td>\n",
       "      <td>https://www.experis.co.uk/job/mechanical-desig...</td>\n",
       "      <td>Yes</td>\n",
       "      <td>https://www.experisjobs.us/clientcss/ej/exexpe...</td>\n",
       "      <td>UI , DESIGN</td>\n",
       "    </tr>\n",
       "    <tr>\n",
       "      <th>1</th>\n",
       "      <td>UI Designer</td>\n",
       "      <td>UX/UI Designer Ipswich 3-6 Months Our client i...</td>\n",
       "      <td>Ipswich, Suffolk</td>\n",
       "      <td>£450.00 - £475.00 per day</td>\n",
       "      <td>Undisclosed Company</td>\n",
       "      <td>Posted 15 days ago</td>\n",
       "      <td>https://www.experis.co.uk/job/ui-designer-6/</td>\n",
       "      <td>Yes</td>\n",
       "      <td>https://www.experisjobs.us/clientcss/ej/exexpe...</td>\n",
       "      <td>UI , UX , DESIGN</td>\n",
       "    </tr>\n",
       "    <tr>\n",
       "      <th>2</th>\n",
       "      <td>UX/UI Designer</td>\n",
       "      <td>UX/UI Designer - Financial Analysis and Tradin...</td>\n",
       "      <td>London, England</td>\n",
       "      <td>£500.00 - £550.00 per day</td>\n",
       "      <td>Undisclosed Company</td>\n",
       "      <td>Posted 15 days ago</td>\n",
       "      <td>https://www.experis.co.uk/job/ux-slash-ui-desi...</td>\n",
       "      <td>Yes</td>\n",
       "      <td>https://www.experisjobs.us/clientcss/ej/exexpe...</td>\n",
       "      <td>UI , UX , DESIGN</td>\n",
       "    </tr>\n",
       "    <tr>\n",
       "      <th>3</th>\n",
       "      <td>UI/Web Designer</td>\n",
       "      <td>My client based in Glasgow have an urgent requ...</td>\n",
       "      <td>Glasgow, Scotland</td>\n",
       "      <td>Competitive</td>\n",
       "      <td>Undisclosed Company</td>\n",
       "      <td>Posted 29 days ago</td>\n",
       "      <td>https://www.experis.co.uk/job/ui-slash-web-des...</td>\n",
       "      <td>Yes</td>\n",
       "      <td>https://www.experisjobs.us/clientcss/ej/exexpe...</td>\n",
       "      <td>UI , WEB DESIGN , DESIGN</td>\n",
       "    </tr>\n",
       "    <tr>\n",
       "      <th>4</th>\n",
       "      <td>UX Designer</td>\n",
       "      <td>UX Designer London 3 Months initially Our clie...</td>\n",
       "      <td>London, England</td>\n",
       "      <td>£450.00 - £500.00 per day</td>\n",
       "      <td>Undisclosed Company</td>\n",
       "      <td>Posted 29 days ago</td>\n",
       "      <td>https://www.experis.co.uk/job/ux-designer-29/</td>\n",
       "      <td>Yes</td>\n",
       "      <td>https://www.experisjobs.us/clientcss/ej/exexpe...</td>\n",
       "      <td>UX , DESIGN</td>\n",
       "    </tr>\n",
       "    <tr>\n",
       "      <th>5</th>\n",
       "      <td>Digital Service Designer</td>\n",
       "      <td>Digital Service Designer Newcastle 6 Months Wo...</td>\n",
       "      <td>Newcastle upon Tyne, Tyne and Wear</td>\n",
       "      <td>£400.00 - £460.00 per day</td>\n",
       "      <td>Undisclosed Company</td>\n",
       "      <td>Posted 8 days ago</td>\n",
       "      <td>https://www.experis.co.uk/job/digital-service-...</td>\n",
       "      <td>Yes</td>\n",
       "      <td>https://www.experisjobs.us/clientcss/ej/exexpe...</td>\n",
       "      <td>DESIGN</td>\n",
       "    </tr>\n",
       "    <tr>\n",
       "      <th>6</th>\n",
       "      <td>UI/UX Designer (3 Months)</td>\n",
       "      <td>UX/UI Designer - Edinburgh - 3 Month + Contrac...</td>\n",
       "      <td>Edinburgh, Scotland</td>\n",
       "      <td>Competitive</td>\n",
       "      <td>Undisclosed Company</td>\n",
       "      <td>Posted 30 days ago</td>\n",
       "      <td>https://www.experis.co.uk/job/ui-slash-ux-desi...</td>\n",
       "      <td>Yes</td>\n",
       "      <td>https://www.experisjobs.us/clientcss/ej/exexpe...</td>\n",
       "      <td>UI , UX , DESIGN</td>\n",
       "    </tr>\n",
       "    <tr>\n",
       "      <th>7</th>\n",
       "      <td>Training Course Designer (SC Cleared)</td>\n",
       "      <td>Training Course Designer (SC Cleared), JSP 822...</td>\n",
       "      <td>Andover, Hampshire</td>\n",
       "      <td>£325 - £425 per day</td>\n",
       "      <td>NaN</td>\n",
       "      <td>Posted 23 days ago</td>\n",
       "      <td>https://www.experis.co.uk/job/training-course-...</td>\n",
       "      <td>Yes</td>\n",
       "      <td>https://www.experisjobs.us/clientcss/ej/exexpe...</td>\n",
       "      <td>UI , DESIGN</td>\n",
       "    </tr>\n",
       "    <tr>\n",
       "      <th>8</th>\n",
       "      <td>Designer (Visual Communications)- LONDON - £15...</td>\n",
       "      <td>Designer - Visual Communications - LONDON - £1...</td>\n",
       "      <td>London, England</td>\n",
       "      <td>£150 - £200 per annum</td>\n",
       "      <td>NaN</td>\n",
       "      <td>Posted 28 days ago</td>\n",
       "      <td>https://www.experis.co.uk/job/designer-visual-...</td>\n",
       "      <td>Yes</td>\n",
       "      <td>https://www.experisjobs.us/clientcss/ej/exexpe...</td>\n",
       "      <td>DESIGN</td>\n",
       "    </tr>\n",
       "    <tr>\n",
       "      <th>9</th>\n",
       "      <td>Supportability Engineer</td>\n",
       "      <td>Supportability Engineer - 6 month contract, Ba...</td>\n",
       "      <td>Barrow-In-Furness, Cumbria</td>\n",
       "      <td>Up to £45 per annum</td>\n",
       "      <td>NaN</td>\n",
       "      <td>Posted 3 days ago</td>\n",
       "      <td>https://www.experis.co.uk/job/supportability-e...</td>\n",
       "      <td>Yes</td>\n",
       "      <td>https://www.experisjobs.us/clientcss/ej/exexpe...</td>\n",
       "      <td>UI , DESIGN</td>\n",
       "    </tr>\n",
       "    <tr>\n",
       "      <th>10</th>\n",
       "      <td>Supportability Engineer</td>\n",
       "      <td>Supportability Engineer - 6 month contract, Ba...</td>\n",
       "      <td>Barrow-In-Furness, Cumbria</td>\n",
       "      <td>Up to £45 per annum</td>\n",
       "      <td>NaN</td>\n",
       "      <td>Posted 22 days ago</td>\n",
       "      <td>https://www.experis.co.uk/job/supportability-e...</td>\n",
       "      <td>Yes</td>\n",
       "      <td>https://www.experisjobs.us/clientcss/ej/exexpe...</td>\n",
       "      <td>UI , DESIGN</td>\n",
       "    </tr>\n",
       "  </tbody>\n",
       "</table>\n",
       "</div>"
      ],
      "text/plain": [
       "                                             JobTitle  \\\n",
       "0                                 Mechanical Designer   \n",
       "1                                         UI Designer   \n",
       "2                                      UX/UI Designer   \n",
       "3                                     UI/Web Designer   \n",
       "4                                         UX Designer   \n",
       "5                            Digital Service Designer   \n",
       "6                           UI/UX Designer (3 Months)   \n",
       "7               Training Course Designer (SC Cleared)   \n",
       "8   Designer (Visual Communications)- LONDON - £15...   \n",
       "9                             Supportability Engineer   \n",
       "10                            Supportability Engineer   \n",
       "\n",
       "                                       JobDescription  \\\n",
       "0   MECHANICAL DESIGNER Rate: £32.00/hr ltd Locati...   \n",
       "1   UX/UI Designer Ipswich 3-6 Months Our client i...   \n",
       "2   UX/UI Designer - Financial Analysis and Tradin...   \n",
       "3   My client based in Glasgow have an urgent requ...   \n",
       "4   UX Designer London 3 Months initially Our clie...   \n",
       "5   Digital Service Designer Newcastle 6 Months Wo...   \n",
       "6   UX/UI Designer - Edinburgh - 3 Month + Contrac...   \n",
       "7   Training Course Designer (SC Cleared), JSP 822...   \n",
       "8   Designer - Visual Communications - LONDON - £1...   \n",
       "9   Supportability Engineer - 6 month contract, Ba...   \n",
       "10  Supportability Engineer - 6 month contract, Ba...   \n",
       "\n",
       "                           JobLocation                  JobSalary  \\\n",
       "0                 Warrington, Cheshire   £30.00 - £32.00 per hour   \n",
       "1                     Ipswich, Suffolk  £450.00 - £475.00 per day   \n",
       "2                      London, England  £500.00 - £550.00 per day   \n",
       "3                    Glasgow, Scotland                Competitive   \n",
       "4                      London, England  £450.00 - £500.00 per day   \n",
       "5   Newcastle upon Tyne, Tyne and Wear  £400.00 - £460.00 per day   \n",
       "6                  Edinburgh, Scotland                Competitive   \n",
       "7                   Andover, Hampshire        £325 - £425 per day   \n",
       "8                      London, England      £150 - £200 per annum   \n",
       "9           Barrow-In-Furness, Cumbria        Up to £45 per annum   \n",
       "10          Barrow-In-Furness, Cumbria        Up to £45 per annum   \n",
       "\n",
       "         JobCompanyName       JobPostedDate  \\\n",
       "0   Undisclosed Company  Posted 11 days ago   \n",
       "1   Undisclosed Company  Posted 15 days ago   \n",
       "2   Undisclosed Company  Posted 15 days ago   \n",
       "3   Undisclosed Company  Posted 29 days ago   \n",
       "4   Undisclosed Company  Posted 29 days ago   \n",
       "5   Undisclosed Company   Posted 8 days ago   \n",
       "6   Undisclosed Company  Posted 30 days ago   \n",
       "7                   NaN  Posted 23 days ago   \n",
       "8                   NaN  Posted 28 days ago   \n",
       "9                   NaN   Posted 3 days ago   \n",
       "10                  NaN  Posted 22 days ago   \n",
       "\n",
       "                                               JobUrl isForFreeUsers  \\\n",
       "0   https://www.experis.co.uk/job/mechanical-desig...            Yes   \n",
       "1        https://www.experis.co.uk/job/ui-designer-6/            Yes   \n",
       "2   https://www.experis.co.uk/job/ux-slash-ui-desi...            Yes   \n",
       "3   https://www.experis.co.uk/job/ui-slash-web-des...            Yes   \n",
       "4       https://www.experis.co.uk/job/ux-designer-29/            Yes   \n",
       "5   https://www.experis.co.uk/job/digital-service-...            Yes   \n",
       "6   https://www.experis.co.uk/job/ui-slash-ux-desi...            Yes   \n",
       "7   https://www.experis.co.uk/job/training-course-...            Yes   \n",
       "8   https://www.experis.co.uk/job/designer-visual-...            Yes   \n",
       "9   https://www.experis.co.uk/job/supportability-e...            Yes   \n",
       "10  https://www.experis.co.uk/job/supportability-e...            Yes   \n",
       "\n",
       "                                              LogoUrl  \\\n",
       "0   https://www.experisjobs.us/clientcss/ej/exexpe...   \n",
       "1   https://www.experisjobs.us/clientcss/ej/exexpe...   \n",
       "2   https://www.experisjobs.us/clientcss/ej/exexpe...   \n",
       "3   https://www.experisjobs.us/clientcss/ej/exexpe...   \n",
       "4   https://www.experisjobs.us/clientcss/ej/exexpe...   \n",
       "5   https://www.experisjobs.us/clientcss/ej/exexpe...   \n",
       "6   https://www.experisjobs.us/clientcss/ej/exexpe...   \n",
       "7   https://www.experisjobs.us/clientcss/ej/exexpe...   \n",
       "8   https://www.experisjobs.us/clientcss/ej/exexpe...   \n",
       "9   https://www.experisjobs.us/clientcss/ej/exexpe...   \n",
       "10  https://www.experisjobs.us/clientcss/ej/exexpe...   \n",
       "\n",
       "                   JobSkills  \n",
       "0                UI , DESIGN  \n",
       "1           UI , UX , DESIGN  \n",
       "2           UI , UX , DESIGN  \n",
       "3   UI , WEB DESIGN , DESIGN  \n",
       "4                UX , DESIGN  \n",
       "5                     DESIGN  \n",
       "6           UI , UX , DESIGN  \n",
       "7                UI , DESIGN  \n",
       "8                     DESIGN  \n",
       "9                UI , DESIGN  \n",
       "10               UI , DESIGN  "
      ]
     },
     "execution_count": 17,
     "metadata": {},
     "output_type": "execute_result"
    }
   ],
   "source": [
    "df"
   ]
  },
  {
   "cell_type": "code",
   "execution_count": 18,
   "metadata": {},
   "outputs": [
    {
     "data": {
      "text/plain": [
       "https://www.experis.co.uk/job/digital-service-designer-1/                                    1\n",
       "https://www.experis.co.uk/job/ux-slash-ui-designer-21/                                       1\n",
       "https://www.experis.co.uk/job/ui-slash-web-designer/                                         1\n",
       "https://www.experis.co.uk/job/ui-designer-6/                                                 1\n",
       "https://www.experis.co.uk/job/mechanical-designer-8/                                         1\n",
       "https://www.experis.co.uk/job/supportability-engineer-4/                                     1\n",
       "https://www.experis.co.uk/job/designer-visual-communications-london-ps150-ps200-3-months/    1\n",
       "https://www.experis.co.uk/job/supportability-engineer-3/                                     1\n",
       "https://www.experis.co.uk/job/training-course-designer-sc-cleared/                           1\n",
       "https://www.experis.co.uk/job/ui-slash-ux-designer-3-months/                                 1\n",
       "https://www.experis.co.uk/job/ux-designer-29/                                                1\n",
       "Name: JobUrl, dtype: int64"
      ]
     },
     "execution_count": 18,
     "metadata": {},
     "output_type": "execute_result"
    }
   ],
   "source": [
    "df['JobUrl'].value_counts(ascending=False)\n",
    "\n"
   ]
  },
  {
   "cell_type": "code",
   "execution_count": 19,
   "metadata": {},
   "outputs": [],
   "source": [
    "df.to_csv('/Users/Arjun D H/Documents/Experis.csv',header=True)"
   ]
  },
  {
   "cell_type": "code",
   "execution_count": null,
   "metadata": {},
   "outputs": [],
   "source": []
  }
 ],
 "metadata": {
  "kernelspec": {
   "display_name": "Python 3",
   "language": "python",
   "name": "python3"
  },
  "language_info": {
   "codemirror_mode": {
    "name": "ipython",
    "version": 3
   },
   "file_extension": ".py",
   "mimetype": "text/x-python",
   "name": "python",
   "nbconvert_exporter": "python",
   "pygments_lexer": "ipython3",
   "version": "3.7.3"
  }
 },
 "nbformat": 4,
 "nbformat_minor": 4
}
