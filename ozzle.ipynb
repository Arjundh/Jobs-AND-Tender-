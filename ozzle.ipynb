{
 "cells": [
  {
   "cell_type": "code",
   "execution_count": 1,
   "metadata": {},
   "outputs": [],
   "source": [
    "from selenium import webdriver\n",
    "from selenium.webdriver.common.keys import Keys\n",
    "from selenium.webdriver.support.ui import WebDriverWait\n",
    "from selenium.webdriver.common.by import By\n",
    "from selenium.webdriver.support.expected_conditions import  visibility_of_element_located\n",
    "from selenium.webdriver.common.action_chains import ActionChains\n",
    "from bs4 import BeautifulSoup\n",
    "from urllib.request import Request, urlopen\n",
    "import pandas as pd\n",
    "import requests\n",
    "import numpy as np\n",
    "import re\n",
    "import os\n",
    "#import javascript\n",
    "#mport time"
   ]
  },
  {
   "cell_type": "code",
   "execution_count": 2,
   "metadata": {},
   "outputs": [],
   "source": [
    "#launch url\n",
    "all_section=[]\n",
    "all_section1=[]\n",
    "all_section2=[]\n",
    "all_section3=[]\n",
    "all_section4=[]\n",
    "#all_section5=[]\n",
    "all_link1=[]\n",
    "all_link=[]\n",
    "\n",
    "driver = webdriver.Firefox(executable_path='C://Users//Arjun D H//geckodriver-v0.24.0-win64//geckodriver.exe')\n",
    "    \n",
    "url = \"https://ozzle.co.uk/jobs/job-search-results/jt-5,1,4/sc-30/co-225/?sortorder=1\"\n",
    "driver.get(url)\n",
    "driver.implicitly_wait(10)\n",
    "section = driver.find_elements_by_xpath(\"//*[@class='heading']\")\n",
    "section1 = driver.find_elements_by_xpath(\"//div[@class='heading']//a\")\n",
    "#section2 = driver.find_elements_by_xpath(\"//*[@class='salary']\")\n",
    "#section3 = driver.find_elements_by_xpath(\"/html[1]/body[1]/form[1]/div[6]/div[1]/div[1]/div[2]/div[1]/div[2]/div[1]/ol[1]/li/p\")\n",
    "#section4 = driver.find_elements_by_xpath(\"/html[1]/body[1]/form[1]/div[6]/div[1]/div[1]/div[2]/div[1]/div[2]/div[1]/ol/li/div[2]/h2[1]/a[1]\")\n",
    "#section5 = driver.find_elements_by_xpath(\"/html[1]/body[1]/form[1]/main[1]/main[1]/section[1]/div[1]/div[2]/div[1]/ul[1]/li/div[1]/div[2]/div[1]/div[1]/div[2]/strong[2]\")\n",
    "    \n",
    "for i in section:    \n",
    "    all_section.append(i.text)   \n",
    "for i in section1:\n",
    "    all_link = i.get_attribute('href')\n",
    "    all_link1.append(all_link)\n",
    "driver.close()    "
   ]
  },
  {
   "cell_type": "code",
   "execution_count": 3,
   "metadata": {},
   "outputs": [
    {
     "data": {
      "text/plain": [
       "['Assistant Packaging Technologist - luxury food brand - ref: 10, 904\\nCENTRAL LONDON\\n£30,000 TO £35,000\\nCONTRACT, PERMANENT POSTED 29 OCT 2019',\n",
       " 'HR Administrator\\nNEWMARKET, SUFFOLK\\n£25,000 TO £30,000\\nCONTRACT POSTED 12 OCT 2019',\n",
       " 'HRBP - West Midlands\\nWEST MIDLANDS\\n£30,000 TO £45,000\\nCONTRACT POSTED 12 OCT 2019']"
      ]
     },
     "execution_count": 3,
     "metadata": {},
     "output_type": "execute_result"
    }
   ],
   "source": [
    "all_section"
   ]
  },
  {
   "cell_type": "code",
   "execution_count": 4,
   "metadata": {},
   "outputs": [],
   "source": [
    "df=pd.DataFrame(index=range(0,len(all_section)),columns=['JobTitle','JobLocation','JobSalary'])\n",
    "for idx,section in enumerate(all_section):\n",
    "    scn=section.split('\\n')\n",
    "    try:\n",
    "        df.iloc[idx,0]=scn[0]\n",
    "    except IndexError:\n",
    "        df.iloc[idx,0]=np.nan\n",
    "    try:\n",
    "        df.iloc[idx,1]=scn[1]\n",
    "    except IndexError:\n",
    "        df.iloc[idx,1]=np.nan\n",
    "    try:\n",
    "        df.iloc[idx,2]=scn[2]\n",
    "    except IndexError:\n",
    "        df.iloc[idx,2]=np.nan\n",
    "    "
   ]
  },
  {
   "cell_type": "code",
   "execution_count": 5,
   "metadata": {},
   "outputs": [
    {
     "data": {
      "text/html": [
       "<div>\n",
       "<style scoped>\n",
       "    .dataframe tbody tr th:only-of-type {\n",
       "        vertical-align: middle;\n",
       "    }\n",
       "\n",
       "    .dataframe tbody tr th {\n",
       "        vertical-align: top;\n",
       "    }\n",
       "\n",
       "    .dataframe thead th {\n",
       "        text-align: right;\n",
       "    }\n",
       "</style>\n",
       "<table border=\"1\" class=\"dataframe\">\n",
       "  <thead>\n",
       "    <tr style=\"text-align: right;\">\n",
       "      <th></th>\n",
       "      <th>JobTitle</th>\n",
       "      <th>JobLocation</th>\n",
       "      <th>JobSalary</th>\n",
       "    </tr>\n",
       "  </thead>\n",
       "  <tbody>\n",
       "    <tr>\n",
       "      <th>0</th>\n",
       "      <td>Assistant Packaging Technologist - luxury food...</td>\n",
       "      <td>CENTRAL LONDON</td>\n",
       "      <td>£30,000 TO £35,000</td>\n",
       "    </tr>\n",
       "    <tr>\n",
       "      <th>1</th>\n",
       "      <td>HR Administrator</td>\n",
       "      <td>NEWMARKET, SUFFOLK</td>\n",
       "      <td>£25,000 TO £30,000</td>\n",
       "    </tr>\n",
       "    <tr>\n",
       "      <th>2</th>\n",
       "      <td>HRBP - West Midlands</td>\n",
       "      <td>WEST MIDLANDS</td>\n",
       "      <td>£30,000 TO £45,000</td>\n",
       "    </tr>\n",
       "  </tbody>\n",
       "</table>\n",
       "</div>"
      ],
      "text/plain": [
       "                                            JobTitle         JobLocation  \\\n",
       "0  Assistant Packaging Technologist - luxury food...      CENTRAL LONDON   \n",
       "1                                   HR Administrator  NEWMARKET, SUFFOLK   \n",
       "2                               HRBP - West Midlands       WEST MIDLANDS   \n",
       "\n",
       "            JobSalary  \n",
       "0  £30,000 TO £35,000  \n",
       "1  £25,000 TO £30,000  \n",
       "2  £30,000 TO £45,000  "
      ]
     },
     "execution_count": 5,
     "metadata": {},
     "output_type": "execute_result"
    }
   ],
   "source": [
    "df"
   ]
  },
  {
   "cell_type": "code",
   "execution_count": 6,
   "metadata": {},
   "outputs": [],
   "source": [
    "df['JobUrl']=pd.Series(all_link1)\n",
    "df['LogoUrl']='https://media.licdn.com/dms/image/C4D1BAQHFB0-AB3ukWw/company-background_10000/0?e=2159024400&v=beta&t=SiMLKavF4VtkoLpkgaQQyB7SzYrEKOvF-VCIQ5nem8U'"
   ]
  },
  {
   "cell_type": "code",
   "execution_count": 7,
   "metadata": {},
   "outputs": [
    {
     "data": {
      "text/html": [
       "<div>\n",
       "<style scoped>\n",
       "    .dataframe tbody tr th:only-of-type {\n",
       "        vertical-align: middle;\n",
       "    }\n",
       "\n",
       "    .dataframe tbody tr th {\n",
       "        vertical-align: top;\n",
       "    }\n",
       "\n",
       "    .dataframe thead th {\n",
       "        text-align: right;\n",
       "    }\n",
       "</style>\n",
       "<table border=\"1\" class=\"dataframe\">\n",
       "  <thead>\n",
       "    <tr style=\"text-align: right;\">\n",
       "      <th></th>\n",
       "      <th>JobTitle</th>\n",
       "      <th>JobLocation</th>\n",
       "      <th>JobSalary</th>\n",
       "      <th>JobUrl</th>\n",
       "      <th>LogoUrl</th>\n",
       "    </tr>\n",
       "  </thead>\n",
       "  <tbody>\n",
       "    <tr>\n",
       "      <th>0</th>\n",
       "      <td>Assistant Packaging Technologist - luxury food...</td>\n",
       "      <td>CENTRAL LONDON</td>\n",
       "      <td>£30,000 TO £35,000</td>\n",
       "      <td>https://ozzle.co.uk/jobs/assistant-packaging-t...</td>\n",
       "      <td>https://media.licdn.com/dms/image/C4D1BAQHFB0-...</td>\n",
       "    </tr>\n",
       "    <tr>\n",
       "      <th>1</th>\n",
       "      <td>HR Administrator</td>\n",
       "      <td>NEWMARKET, SUFFOLK</td>\n",
       "      <td>£25,000 TO £30,000</td>\n",
       "      <td>https://ozzle.co.uk/jobs/resource-partnership-...</td>\n",
       "      <td>https://media.licdn.com/dms/image/C4D1BAQHFB0-...</td>\n",
       "    </tr>\n",
       "    <tr>\n",
       "      <th>2</th>\n",
       "      <td>HRBP - West Midlands</td>\n",
       "      <td>WEST MIDLANDS</td>\n",
       "      <td>£30,000 TO £45,000</td>\n",
       "      <td>https://ozzle.co.uk/jobs/hr-administrator-newm...</td>\n",
       "      <td>https://media.licdn.com/dms/image/C4D1BAQHFB0-...</td>\n",
       "    </tr>\n",
       "  </tbody>\n",
       "</table>\n",
       "</div>"
      ],
      "text/plain": [
       "                                            JobTitle         JobLocation  \\\n",
       "0  Assistant Packaging Technologist - luxury food...      CENTRAL LONDON   \n",
       "1                                   HR Administrator  NEWMARKET, SUFFOLK   \n",
       "2                               HRBP - West Midlands       WEST MIDLANDS   \n",
       "\n",
       "            JobSalary                                             JobUrl  \\\n",
       "0  £30,000 TO £35,000  https://ozzle.co.uk/jobs/assistant-packaging-t...   \n",
       "1  £25,000 TO £30,000  https://ozzle.co.uk/jobs/resource-partnership-...   \n",
       "2  £30,000 TO £45,000  https://ozzle.co.uk/jobs/hr-administrator-newm...   \n",
       "\n",
       "                                             LogoUrl  \n",
       "0  https://media.licdn.com/dms/image/C4D1BAQHFB0-...  \n",
       "1  https://media.licdn.com/dms/image/C4D1BAQHFB0-...  \n",
       "2  https://media.licdn.com/dms/image/C4D1BAQHFB0-...  "
      ]
     },
     "execution_count": 7,
     "metadata": {},
     "output_type": "execute_result"
    }
   ],
   "source": [
    "df"
   ]
  },
  {
   "cell_type": "code",
   "execution_count": 8,
   "metadata": {},
   "outputs": [],
   "source": [
    "all_section12=[]\n",
    "#all_section13=[]\n",
    "driver = webdriver.Firefox(executable_path='C://Users//Arjun D H//geckodriver-v0.24.0-win64//geckodriver.exe')\n",
    "for item in all_link1:\n",
    "    driver.get(item)\n",
    "    driver.implicitly_wait(10)\n",
    "    section12 = driver.find_elements_by_xpath(\"//div[@class='description clearfix']\")\n",
    "    #section13 = driver.find_element_by_xpath(\"/html[1]/body[1]/form[1]/div[6]/div[1]/div[1]/div[1]/div[1]/ul[1]/li[3]\")\n",
    "    for i in section12:\n",
    "        all_section12.append(i.text)\n",
    "    #for i in section13:\n",
    "        #all_section13.append(i.text)    \n",
    "driver.close()      "
   ]
  },
  {
   "cell_type": "code",
   "execution_count": 9,
   "metadata": {},
   "outputs": [],
   "source": [
    "df['JobDescription']=pd.Series(all_section12)"
   ]
  },
  {
   "cell_type": "code",
   "execution_count": 10,
   "metadata": {},
   "outputs": [],
   "source": [
    "df[\"isForFreeUsers\"]=\"No\""
   ]
  },
  {
   "cell_type": "code",
   "execution_count": 11,
   "metadata": {},
   "outputs": [
    {
     "data": {
      "text/html": [
       "<div>\n",
       "<style scoped>\n",
       "    .dataframe tbody tr th:only-of-type {\n",
       "        vertical-align: middle;\n",
       "    }\n",
       "\n",
       "    .dataframe tbody tr th {\n",
       "        vertical-align: top;\n",
       "    }\n",
       "\n",
       "    .dataframe thead th {\n",
       "        text-align: right;\n",
       "    }\n",
       "</style>\n",
       "<table border=\"1\" class=\"dataframe\">\n",
       "  <thead>\n",
       "    <tr style=\"text-align: right;\">\n",
       "      <th></th>\n",
       "      <th>JobTitle</th>\n",
       "      <th>JobLocation</th>\n",
       "      <th>JobSalary</th>\n",
       "      <th>JobUrl</th>\n",
       "      <th>LogoUrl</th>\n",
       "      <th>JobDescription</th>\n",
       "      <th>isForFreeUsers</th>\n",
       "    </tr>\n",
       "  </thead>\n",
       "  <tbody>\n",
       "    <tr>\n",
       "      <th>0</th>\n",
       "      <td>Assistant Packaging Technologist - luxury food...</td>\n",
       "      <td>CENTRAL LONDON</td>\n",
       "      <td>£30,000 TO £35,000</td>\n",
       "      <td>https://ozzle.co.uk/jobs/assistant-packaging-t...</td>\n",
       "      <td>https://media.licdn.com/dms/image/C4D1BAQHFB0-...</td>\n",
       "      <td>Job Description\\nJob role &amp; responsibilities.....</td>\n",
       "      <td>No</td>\n",
       "    </tr>\n",
       "    <tr>\n",
       "      <th>1</th>\n",
       "      <td>HR Administrator</td>\n",
       "      <td>NEWMARKET, SUFFOLK</td>\n",
       "      <td>£25,000 TO £30,000</td>\n",
       "      <td>https://ozzle.co.uk/jobs/resource-partnership-...</td>\n",
       "      <td>https://media.licdn.com/dms/image/C4D1BAQHFB0-...</td>\n",
       "      <td>Job Description\\n£20,000 - £30,000/annum\\nLoca...</td>\n",
       "      <td>No</td>\n",
       "    </tr>\n",
       "    <tr>\n",
       "      <th>2</th>\n",
       "      <td>HRBP - West Midlands</td>\n",
       "      <td>WEST MIDLANDS</td>\n",
       "      <td>£30,000 TO £45,000</td>\n",
       "      <td>https://ozzle.co.uk/jobs/hr-administrator-newm...</td>\n",
       "      <td>https://media.licdn.com/dms/image/C4D1BAQHFB0-...</td>\n",
       "      <td>Job Description\\nYou will work closely with th...</td>\n",
       "      <td>No</td>\n",
       "    </tr>\n",
       "  </tbody>\n",
       "</table>\n",
       "</div>"
      ],
      "text/plain": [
       "                                            JobTitle         JobLocation  \\\n",
       "0  Assistant Packaging Technologist - luxury food...      CENTRAL LONDON   \n",
       "1                                   HR Administrator  NEWMARKET, SUFFOLK   \n",
       "2                               HRBP - West Midlands       WEST MIDLANDS   \n",
       "\n",
       "            JobSalary                                             JobUrl  \\\n",
       "0  £30,000 TO £35,000  https://ozzle.co.uk/jobs/assistant-packaging-t...   \n",
       "1  £25,000 TO £30,000  https://ozzle.co.uk/jobs/resource-partnership-...   \n",
       "2  £30,000 TO £45,000  https://ozzle.co.uk/jobs/hr-administrator-newm...   \n",
       "\n",
       "                                             LogoUrl  \\\n",
       "0  https://media.licdn.com/dms/image/C4D1BAQHFB0-...   \n",
       "1  https://media.licdn.com/dms/image/C4D1BAQHFB0-...   \n",
       "2  https://media.licdn.com/dms/image/C4D1BAQHFB0-...   \n",
       "\n",
       "                                      JobDescription isForFreeUsers  \n",
       "0  Job Description\\nJob role & responsibilities.....             No  \n",
       "1  Job Description\\n£20,000 - £30,000/annum\\nLoca...             No  \n",
       "2  Job Description\\nYou will work closely with th...             No  "
      ]
     },
     "execution_count": 11,
     "metadata": {},
     "output_type": "execute_result"
    }
   ],
   "source": [
    "df"
   ]
  },
  {
   "cell_type": "code",
   "execution_count": 12,
   "metadata": {},
   "outputs": [],
   "source": [
    "df.to_csv('/Users/Arjun D H/Documents/ozzle.csv',header=True)"
   ]
  },
  {
   "cell_type": "code",
   "execution_count": null,
   "metadata": {},
   "outputs": [],
   "source": []
  }
 ],
 "metadata": {
  "kernelspec": {
   "display_name": "Python 3",
   "language": "python",
   "name": "python3"
  },
  "language_info": {
   "codemirror_mode": {
    "name": "ipython",
    "version": 3
   },
   "file_extension": ".py",
   "mimetype": "text/x-python",
   "name": "python",
   "nbconvert_exporter": "python",
   "pygments_lexer": "ipython3",
   "version": "3.7.3"
  }
 },
 "nbformat": 4,
 "nbformat_minor": 4
}
